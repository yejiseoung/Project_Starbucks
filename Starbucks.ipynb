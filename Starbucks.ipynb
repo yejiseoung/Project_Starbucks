{
 "cells": [
  {
   "cell_type": "markdown",
   "metadata": {
    "toc": true
   },
   "source": [
    "<h1>Table of Contents<span class=\"tocSkip\"></span></h1>\n",
    "<div class=\"toc\"><ul class=\"toc-item\"><li><ul class=\"toc-item\"><li><span><a href=\"#Introduction\" data-toc-modified-id=\"Introduction-0.1\"><span class=\"toc-item-num\">0.1&nbsp;&nbsp;</span>Introduction</a></span></li><li><span><a href=\"#Import-packages-and-load-data\" data-toc-modified-id=\"Import-packages-and-load-data-0.2\"><span class=\"toc-item-num\">0.2&nbsp;&nbsp;</span>Import packages and load data</a></span></li></ul></li><li><span><a href=\"#Data-cleaning\" data-toc-modified-id=\"Data-cleaning-1\"><span class=\"toc-item-num\">1&nbsp;&nbsp;</span>Data cleaning</a></span><ul class=\"toc-item\"><li><span><a href=\"#portfolio:-Offers-sent-during-30-day-test-period-(10-offers-x-6-fields)\" data-toc-modified-id=\"portfolio:-Offers-sent-during-30-day-test-period-(10-offers-x-6-fields)-1.1\"><span class=\"toc-item-num\">1.1&nbsp;&nbsp;</span>portfolio: Offers sent during 30-day test period (10 offers x 6 fields)</a></span></li><li><span><a href=\"#profile:-Rewards-program-users-(17000-users-x-5-fields)\" data-toc-modified-id=\"profile:-Rewards-program-users-(17000-users-x-5-fields)-1.2\"><span class=\"toc-item-num\">1.2&nbsp;&nbsp;</span>profile: Rewards program users (17000 users x 5 fields)</a></span></li><li><span><a href=\"#transcript:-Event-log-(306648-events-x-4-fields)\" data-toc-modified-id=\"transcript:-Event-log-(306648-events-x-4-fields)-1.3\"><span class=\"toc-item-num\">1.3&nbsp;&nbsp;</span>transcript: Event log (306648 events x 4 fields)</a></span></li><li><span><a href=\"#Merge-datasets\" data-toc-modified-id=\"Merge-datasets-1.4\"><span class=\"toc-item-num\">1.4&nbsp;&nbsp;</span>Merge datasets</a></span></li></ul></li><li><span><a href=\"#Data-Exploration-with-visualization\" data-toc-modified-id=\"Data-Exploration-with-visualization-2\"><span class=\"toc-item-num\">2&nbsp;&nbsp;</span>Data Exploration with visualization</a></span><ul class=\"toc-item\"><li><span><a href=\"#Gender-Distribution\" data-toc-modified-id=\"Gender-Distribution-2.1\"><span class=\"toc-item-num\">2.1&nbsp;&nbsp;</span>Gender Distribution</a></span></li><li><span><a href=\"#Age-Distribution\" data-toc-modified-id=\"Age-Distribution-2.2\"><span class=\"toc-item-num\">2.2&nbsp;&nbsp;</span>Age Distribution</a></span></li><li><span><a href=\"#Income-Distribution\" data-toc-modified-id=\"Income-Distribution-2.3\"><span class=\"toc-item-num\">2.3&nbsp;&nbsp;</span>Income Distribution</a></span></li><li><span><a href=\"#What-types-of-offer??\" data-toc-modified-id=\"What-types-of-offer??-2.4\"><span class=\"toc-item-num\">2.4&nbsp;&nbsp;</span>What types of offer??</a></span></li></ul></li><li><span><a href=\"#Recommendation-model\" data-toc-modified-id=\"Recommendation-model-3\"><span class=\"toc-item-num\">3&nbsp;&nbsp;</span>Recommendation model</a></span><ul class=\"toc-item\"><li><span><a href=\"#Data-Feature-Engineering\" data-toc-modified-id=\"Data-Feature-Engineering-3.1\"><span class=\"toc-item-num\">3.1&nbsp;&nbsp;</span>Data Feature Engineering</a></span><ul class=\"toc-item\"><li><span><a href=\"#Calculate-total-amount-spent\" data-toc-modified-id=\"Calculate-total-amount-spent-3.1.1\"><span class=\"toc-item-num\">3.1.1&nbsp;&nbsp;</span>Calculate total amount spent</a></span></li><li><span><a href=\"#Compute-PB-score\" data-toc-modified-id=\"Compute-PB-score-3.1.2\"><span class=\"toc-item-num\">3.1.2&nbsp;&nbsp;</span>Compute PB score</a></span></li><li><span><a href=\"#Create-train-and-test-dataset\" data-toc-modified-id=\"Create-train-and-test-dataset-3.1.3\"><span class=\"toc-item-num\">3.1.3&nbsp;&nbsp;</span>Create train and test dataset</a></span></li></ul></li><li><span><a href=\"#FunkSVD\" data-toc-modified-id=\"FunkSVD-3.2\"><span class=\"toc-item-num\">3.2&nbsp;&nbsp;</span>FunkSVD</a></span></li><li><span><a href=\"#Model-Evaludation\" data-toc-modified-id=\"Model-Evaludation-3.3\"><span class=\"toc-item-num\">3.3&nbsp;&nbsp;</span>Model Evaludation</a></span><ul class=\"toc-item\"><li><span><a href=\"#Change-iter=N,-and-keep-Latent-features-=-10,-learning_rate-=-0.0001\" data-toc-modified-id=\"Change-iter=N,-and-keep-Latent-features-=-10,-learning_rate-=-0.0001-3.3.1\"><span class=\"toc-item-num\">3.3.1&nbsp;&nbsp;</span><strong>Change iter=N, and keep Latent features = 10, learning_rate = 0.0001</strong></a></span></li><li><span><a href=\"#Change-learning_rate-=-N,-keep-Latent-features-=-10,-iter-=-500\" data-toc-modified-id=\"Change-learning_rate-=-N,-keep-Latent-features-=-10,-iter-=-500-3.3.2\"><span class=\"toc-item-num\">3.3.2&nbsp;&nbsp;</span><strong>Change learning_rate = N, keep Latent features = 10, iter = 500</strong></a></span></li></ul></li></ul></li><li><span><a href=\"#Conclusion\" data-toc-modified-id=\"Conclusion-4\"><span class=\"toc-item-num\">4&nbsp;&nbsp;</span>Conclusion</a></span></li><li><span><a href=\"#Conclusion\" data-toc-modified-id=\"Conclusion-5\"><span class=\"toc-item-num\">5&nbsp;&nbsp;</span>Conclusion</a></span></li></ul></div>"
   ]
  },
  {
   "cell_type": "markdown",
   "metadata": {},
   "source": [
    "# Starbucks Capstone Challenge\n",
    "\n",
    "### Introduction\n",
    "\n",
    "In this project, we are going to build a recommendation model that can provide customers to an appropriate offer. \n",
    "\n",
    "This data set contains simulated data that mimics customer behavior on the Starbucks rewards mobile app. Once every few days, Starbucks sends out an offer to users of the mobile app. An offer can be merely an advertisement for a drink (informational offer) or an actual offer such as a discount or BOGO (buy one get one free). \n",
    "\n",
    "Since not all users receive the same offer and not all users response to the offers in the same way, this is the challenge to solve with this data set. \n",
    "\n",
    "The dataset also contains demographic information for customers, and we will analyze which demographic groups respond best to which offer type. \n",
    "\n",
    "To build a recommendation model, we computed purchasing behavior scores (PB scores). Since every offer has a validity period, not all users buy products before the offer expires. Given PB scores, we can see the purchasing path from receiving offers to purchasing products. For some cases where customers did not view the offer but completed to buy products, we have different formula to compute PB scores. We will explain the details in the third section (Recommendation model). \n",
    "\n"
   ]
  },
  {
   "cell_type": "markdown",
   "metadata": {},
   "source": [
    "### Import packages and load data"
   ]
  },
  {
   "cell_type": "code",
   "execution_count": 1,
   "metadata": {
    "scrolled": true
   },
   "outputs": [
    {
     "data": {
      "text/html": [
       "        <script type=\"text/javascript\">\n",
       "        window.PlotlyConfig = {MathJaxConfig: 'local'};\n",
       "        if (window.MathJax) {MathJax.Hub.Config({SVG: {font: \"STIX-Web\"}});}\n",
       "        if (typeof require !== 'undefined') {\n",
       "        require.undef(\"plotly\");\n",
       "        requirejs.config({\n",
       "            paths: {\n",
       "                'plotly': ['https://cdn.plot.ly/plotly-2.2.0.min']\n",
       "            }\n",
       "        });\n",
       "        require(['plotly'], function(Plotly) {\n",
       "            window._Plotly = Plotly;\n",
       "        });\n",
       "        }\n",
       "        </script>\n",
       "        "
      ]
     },
     "metadata": {},
     "output_type": "display_data"
    },
    {
     "data": {
      "text/plain": [
       "'/Users/yejiseoung/Dropbox/My Mac (Yejis-MacBook-Pro.local)/Documents/Projects/Starbucks'"
      ]
     },
     "execution_count": 1,
     "metadata": {},
     "output_type": "execute_result"
    }
   ],
   "source": [
    "import pandas as pd\n",
    "import numpy as np\n",
    "import math\n",
    "import json\n",
    "import os\n",
    "%matplotlib inline\n",
    "\n",
    "pd.set_option('display.max_rows', 1000)\n",
    "pd.set_option('display.max_columns', 1000)\n",
    "\n",
    "import matplotlib\n",
    "import matplotlib.pyplot as plt\n",
    "import matplotlib.dates as mdates\n",
    "from textwrap import wrap\n",
    "import seaborn as sns\n",
    "\n",
    "import progressbar\n",
    "import warnings\n",
    "warnings.filterwarnings('ignore')\n",
    "\n",
    "import plotly as py\n",
    "import plotly.graph_objs as go\n",
    "\n",
    "py.offline.init_notebook_mode(connected = True)\n",
    "\n",
    "import geopandas\n",
    "import matplotlib.colors\n",
    "\n",
    "from pathlib import Path\n",
    "os.getcwd()"
   ]
  },
  {
   "cell_type": "code",
   "execution_count": 2,
   "metadata": {},
   "outputs": [],
   "source": [
    "path = Path('/Users/yejiseoung/Dropbox/My Mac (Yejis-MacBook-Pro.local)/Documents/Projects/Starbucks/Data')"
   ]
  },
  {
   "cell_type": "code",
   "execution_count": 3,
   "metadata": {},
   "outputs": [],
   "source": [
    "# read in the json files\n",
    "portfolio = pd.read_json(path/'portfolio.json', orient='records', lines=True)\n",
    "profile = pd.read_json(path/'profile.json', orient='records', lines=True)\n",
    "transcript = pd.read_json(path/'transcript.json', orient='records', lines=True)"
   ]
  },
  {
   "cell_type": "code",
   "execution_count": 4,
   "metadata": {
    "scrolled": true
   },
   "outputs": [
    {
     "data": {
      "text/plain": [
       "((10, 6), (306534, 4), (17000, 5))"
      ]
     },
     "execution_count": 4,
     "metadata": {},
     "output_type": "execute_result"
    }
   ],
   "source": [
    "portfolio.shape, transcript.shape, profile.shape"
   ]
  },
  {
   "cell_type": "markdown",
   "metadata": {
    "heading_collapsed": true
   },
   "source": [
    "## Data cleaning\n",
    "\n",
    "In this section, we will clean the data and merge all three tables at the end. "
   ]
  },
  {
   "cell_type": "markdown",
   "metadata": {
    "hidden": true
   },
   "source": [
    "### portfolio: Offers sent during 30-day test period (10 offers x 6 fields)\n",
    "\n",
    "- reward: (numeric) money awarded for the amount spent\n",
    "- channels: (list) web, email, mobile, social\n",
    "- difficulty: (numeric) minimum required spend to complete an offer\n",
    "- duration: (numeric) time for offer to be open, in days\n",
    "- offer_type: (string) bogo, discount, informational\n",
    "- id: (string/hash) __offer id__\n",
    "\n",
    "\n",
    "__Need to clean__\n",
    "- `portfolio['channels']` have multiple information in each row. We can make each channel's columns and input boolean values (0, 1). \n",
    "\n",
    "- `portfolio['id']`'column name change to 'offer_id' for convenience when we merge the datasets. \n",
    "\n"
   ]
  },
  {
   "cell_type": "code",
   "execution_count": 5,
   "metadata": {
    "hidden": true
   },
   "outputs": [
    {
     "data": {
      "text/html": [
       "<div>\n",
       "<style scoped>\n",
       "    .dataframe tbody tr th:only-of-type {\n",
       "        vertical-align: middle;\n",
       "    }\n",
       "\n",
       "    .dataframe tbody tr th {\n",
       "        vertical-align: top;\n",
       "    }\n",
       "\n",
       "    .dataframe thead th {\n",
       "        text-align: right;\n",
       "    }\n",
       "</style>\n",
       "<table border=\"1\" class=\"dataframe\">\n",
       "  <thead>\n",
       "    <tr style=\"text-align: right;\">\n",
       "      <th></th>\n",
       "      <th>reward</th>\n",
       "      <th>channels</th>\n",
       "      <th>difficulty</th>\n",
       "      <th>duration</th>\n",
       "      <th>offer_type</th>\n",
       "      <th>id</th>\n",
       "    </tr>\n",
       "  </thead>\n",
       "  <tbody>\n",
       "    <tr>\n",
       "      <th>0</th>\n",
       "      <td>10</td>\n",
       "      <td>[email, mobile, social]</td>\n",
       "      <td>10</td>\n",
       "      <td>7</td>\n",
       "      <td>bogo</td>\n",
       "      <td>ae264e3637204a6fb9bb56bc8210ddfd</td>\n",
       "    </tr>\n",
       "    <tr>\n",
       "      <th>1</th>\n",
       "      <td>10</td>\n",
       "      <td>[web, email, mobile, social]</td>\n",
       "      <td>10</td>\n",
       "      <td>5</td>\n",
       "      <td>bogo</td>\n",
       "      <td>4d5c57ea9a6940dd891ad53e9dbe8da0</td>\n",
       "    </tr>\n",
       "    <tr>\n",
       "      <th>2</th>\n",
       "      <td>0</td>\n",
       "      <td>[web, email, mobile]</td>\n",
       "      <td>0</td>\n",
       "      <td>4</td>\n",
       "      <td>informational</td>\n",
       "      <td>3f207df678b143eea3cee63160fa8bed</td>\n",
       "    </tr>\n",
       "    <tr>\n",
       "      <th>3</th>\n",
       "      <td>5</td>\n",
       "      <td>[web, email, mobile]</td>\n",
       "      <td>5</td>\n",
       "      <td>7</td>\n",
       "      <td>bogo</td>\n",
       "      <td>9b98b8c7a33c4b65b9aebfe6a799e6d9</td>\n",
       "    </tr>\n",
       "    <tr>\n",
       "      <th>4</th>\n",
       "      <td>5</td>\n",
       "      <td>[web, email]</td>\n",
       "      <td>20</td>\n",
       "      <td>10</td>\n",
       "      <td>discount</td>\n",
       "      <td>0b1e1539f2cc45b7b9fa7c272da2e1d7</td>\n",
       "    </tr>\n",
       "    <tr>\n",
       "      <th>5</th>\n",
       "      <td>3</td>\n",
       "      <td>[web, email, mobile, social]</td>\n",
       "      <td>7</td>\n",
       "      <td>7</td>\n",
       "      <td>discount</td>\n",
       "      <td>2298d6c36e964ae4a3e7e9706d1fb8c2</td>\n",
       "    </tr>\n",
       "    <tr>\n",
       "      <th>6</th>\n",
       "      <td>2</td>\n",
       "      <td>[web, email, mobile, social]</td>\n",
       "      <td>10</td>\n",
       "      <td>10</td>\n",
       "      <td>discount</td>\n",
       "      <td>fafdcd668e3743c1bb461111dcafc2a4</td>\n",
       "    </tr>\n",
       "    <tr>\n",
       "      <th>7</th>\n",
       "      <td>0</td>\n",
       "      <td>[email, mobile, social]</td>\n",
       "      <td>0</td>\n",
       "      <td>3</td>\n",
       "      <td>informational</td>\n",
       "      <td>5a8bc65990b245e5a138643cd4eb9837</td>\n",
       "    </tr>\n",
       "    <tr>\n",
       "      <th>8</th>\n",
       "      <td>5</td>\n",
       "      <td>[web, email, mobile, social]</td>\n",
       "      <td>5</td>\n",
       "      <td>5</td>\n",
       "      <td>bogo</td>\n",
       "      <td>f19421c1d4aa40978ebb69ca19b0e20d</td>\n",
       "    </tr>\n",
       "    <tr>\n",
       "      <th>9</th>\n",
       "      <td>2</td>\n",
       "      <td>[web, email, mobile]</td>\n",
       "      <td>10</td>\n",
       "      <td>7</td>\n",
       "      <td>discount</td>\n",
       "      <td>2906b810c7d4411798c6938adc9daaa5</td>\n",
       "    </tr>\n",
       "  </tbody>\n",
       "</table>\n",
       "</div>"
      ],
      "text/plain": [
       "   reward                      channels  difficulty  duration     offer_type  \\\n",
       "0      10       [email, mobile, social]          10         7           bogo   \n",
       "1      10  [web, email, mobile, social]          10         5           bogo   \n",
       "2       0          [web, email, mobile]           0         4  informational   \n",
       "3       5          [web, email, mobile]           5         7           bogo   \n",
       "4       5                  [web, email]          20        10       discount   \n",
       "5       3  [web, email, mobile, social]           7         7       discount   \n",
       "6       2  [web, email, mobile, social]          10        10       discount   \n",
       "7       0       [email, mobile, social]           0         3  informational   \n",
       "8       5  [web, email, mobile, social]           5         5           bogo   \n",
       "9       2          [web, email, mobile]          10         7       discount   \n",
       "\n",
       "                                 id  \n",
       "0  ae264e3637204a6fb9bb56bc8210ddfd  \n",
       "1  4d5c57ea9a6940dd891ad53e9dbe8da0  \n",
       "2  3f207df678b143eea3cee63160fa8bed  \n",
       "3  9b98b8c7a33c4b65b9aebfe6a799e6d9  \n",
       "4  0b1e1539f2cc45b7b9fa7c272da2e1d7  \n",
       "5  2298d6c36e964ae4a3e7e9706d1fb8c2  \n",
       "6  fafdcd668e3743c1bb461111dcafc2a4  \n",
       "7  5a8bc65990b245e5a138643cd4eb9837  \n",
       "8  f19421c1d4aa40978ebb69ca19b0e20d  \n",
       "9  2906b810c7d4411798c6938adc9daaa5  "
      ]
     },
     "execution_count": 5,
     "metadata": {},
     "output_type": "execute_result"
    }
   ],
   "source": [
    "portfolio"
   ]
  },
  {
   "cell_type": "code",
   "execution_count": 6,
   "metadata": {
    "hidden": true
   },
   "outputs": [],
   "source": [
    "# rename id and reward columns to reduce confusion when we combine all tables\n",
    "portfolio = portfolio.rename(columns={'id': 'offer_id',\n",
    "                                     'reward': 'reward_amount'})"
   ]
  },
  {
   "cell_type": "code",
   "execution_count": 7,
   "metadata": {
    "hidden": true
   },
   "outputs": [
    {
     "data": {
      "text/html": [
       "<div>\n",
       "<style scoped>\n",
       "    .dataframe tbody tr th:only-of-type {\n",
       "        vertical-align: middle;\n",
       "    }\n",
       "\n",
       "    .dataframe tbody tr th {\n",
       "        vertical-align: top;\n",
       "    }\n",
       "\n",
       "    .dataframe thead th {\n",
       "        text-align: right;\n",
       "    }\n",
       "</style>\n",
       "<table border=\"1\" class=\"dataframe\">\n",
       "  <thead>\n",
       "    <tr style=\"text-align: right;\">\n",
       "      <th></th>\n",
       "      <th>reward_amount</th>\n",
       "      <th>channels</th>\n",
       "      <th>difficulty</th>\n",
       "      <th>duration</th>\n",
       "      <th>offer_type</th>\n",
       "      <th>offer_id</th>\n",
       "      <th>offer_number</th>\n",
       "      <th>email</th>\n",
       "      <th>mobile</th>\n",
       "      <th>social</th>\n",
       "      <th>web</th>\n",
       "    </tr>\n",
       "  </thead>\n",
       "  <tbody>\n",
       "    <tr>\n",
       "      <th>0</th>\n",
       "      <td>10</td>\n",
       "      <td>[email, mobile, social]</td>\n",
       "      <td>10</td>\n",
       "      <td>7</td>\n",
       "      <td>bogo</td>\n",
       "      <td>ae264e3637204a6fb9bb56bc8210ddfd</td>\n",
       "      <td>offer_0</td>\n",
       "      <td>1</td>\n",
       "      <td>1</td>\n",
       "      <td>1</td>\n",
       "      <td>0</td>\n",
       "    </tr>\n",
       "    <tr>\n",
       "      <th>1</th>\n",
       "      <td>10</td>\n",
       "      <td>[web, email, mobile, social]</td>\n",
       "      <td>10</td>\n",
       "      <td>5</td>\n",
       "      <td>bogo</td>\n",
       "      <td>4d5c57ea9a6940dd891ad53e9dbe8da0</td>\n",
       "      <td>offer_1</td>\n",
       "      <td>1</td>\n",
       "      <td>1</td>\n",
       "      <td>1</td>\n",
       "      <td>1</td>\n",
       "    </tr>\n",
       "    <tr>\n",
       "      <th>2</th>\n",
       "      <td>0</td>\n",
       "      <td>[web, email, mobile]</td>\n",
       "      <td>0</td>\n",
       "      <td>4</td>\n",
       "      <td>informational</td>\n",
       "      <td>3f207df678b143eea3cee63160fa8bed</td>\n",
       "      <td>offer_2</td>\n",
       "      <td>1</td>\n",
       "      <td>1</td>\n",
       "      <td>0</td>\n",
       "      <td>1</td>\n",
       "    </tr>\n",
       "    <tr>\n",
       "      <th>3</th>\n",
       "      <td>5</td>\n",
       "      <td>[web, email, mobile]</td>\n",
       "      <td>5</td>\n",
       "      <td>7</td>\n",
       "      <td>bogo</td>\n",
       "      <td>9b98b8c7a33c4b65b9aebfe6a799e6d9</td>\n",
       "      <td>offer_3</td>\n",
       "      <td>1</td>\n",
       "      <td>1</td>\n",
       "      <td>0</td>\n",
       "      <td>1</td>\n",
       "    </tr>\n",
       "    <tr>\n",
       "      <th>4</th>\n",
       "      <td>5</td>\n",
       "      <td>[web, email]</td>\n",
       "      <td>20</td>\n",
       "      <td>10</td>\n",
       "      <td>discount</td>\n",
       "      <td>0b1e1539f2cc45b7b9fa7c272da2e1d7</td>\n",
       "      <td>offer_4</td>\n",
       "      <td>1</td>\n",
       "      <td>0</td>\n",
       "      <td>0</td>\n",
       "      <td>1</td>\n",
       "    </tr>\n",
       "  </tbody>\n",
       "</table>\n",
       "</div>"
      ],
      "text/plain": [
       "   reward_amount                      channels  difficulty  duration  \\\n",
       "0             10       [email, mobile, social]          10         7   \n",
       "1             10  [web, email, mobile, social]          10         5   \n",
       "2              0          [web, email, mobile]           0         4   \n",
       "3              5          [web, email, mobile]           5         7   \n",
       "4              5                  [web, email]          20        10   \n",
       "\n",
       "      offer_type                          offer_id offer_number  email  \\\n",
       "0           bogo  ae264e3637204a6fb9bb56bc8210ddfd      offer_0      1   \n",
       "1           bogo  4d5c57ea9a6940dd891ad53e9dbe8da0      offer_1      1   \n",
       "2  informational  3f207df678b143eea3cee63160fa8bed      offer_2      1   \n",
       "3           bogo  9b98b8c7a33c4b65b9aebfe6a799e6d9      offer_3      1   \n",
       "4       discount  0b1e1539f2cc45b7b9fa7c272da2e1d7      offer_4      1   \n",
       "\n",
       "   mobile  social  web  \n",
       "0       1       1    0  \n",
       "1       1       1    1  \n",
       "2       1       0    1  \n",
       "3       1       0    1  \n",
       "4       0       0    1  "
      ]
     },
     "execution_count": 7,
     "metadata": {},
     "output_type": "execute_result"
    }
   ],
   "source": [
    "# create a column which indicates offer id \n",
    "portfolio['offer_number'] = ['offer_' + str(portfolio.index[i]) for i in range(10)]\n",
    "\n",
    "# create columns which has each channel's info with boolean values (0,1) \n",
    "portfolio['email'] = [1 if 'email' in portfolio['channels'][i] else 0 for i in range(10)]\n",
    "portfolio['mobile'] = [1 if 'mobile' in portfolio['channels'][i] else 0 for i in range(10)]\n",
    "portfolio['social'] = [1 if 'social' in portfolio['channels'][i] else 0 for i in range(10)]\n",
    "portfolio['web'] = [1 if 'web' in portfolio['channels'][i] else 0 for i in range(10)]\n",
    "\n",
    "portfolio.head()"
   ]
  },
  {
   "cell_type": "code",
   "execution_count": 8,
   "metadata": {
    "hidden": true
   },
   "outputs": [
    {
     "data": {
      "text/html": [
       "<div>\n",
       "<style scoped>\n",
       "    .dataframe tbody tr th:only-of-type {\n",
       "        vertical-align: middle;\n",
       "    }\n",
       "\n",
       "    .dataframe tbody tr th {\n",
       "        vertical-align: top;\n",
       "    }\n",
       "\n",
       "    .dataframe thead th {\n",
       "        text-align: right;\n",
       "    }\n",
       "</style>\n",
       "<table border=\"1\" class=\"dataframe\">\n",
       "  <thead>\n",
       "    <tr style=\"text-align: right;\">\n",
       "      <th></th>\n",
       "      <th>reward_amount</th>\n",
       "      <th>difficulty</th>\n",
       "      <th>duration</th>\n",
       "      <th>offer_type</th>\n",
       "      <th>offer_id</th>\n",
       "      <th>offer_number</th>\n",
       "      <th>email</th>\n",
       "      <th>mobile</th>\n",
       "      <th>social</th>\n",
       "      <th>web</th>\n",
       "    </tr>\n",
       "  </thead>\n",
       "  <tbody>\n",
       "    <tr>\n",
       "      <th>0</th>\n",
       "      <td>10</td>\n",
       "      <td>10</td>\n",
       "      <td>7</td>\n",
       "      <td>bogo</td>\n",
       "      <td>ae264e3637204a6fb9bb56bc8210ddfd</td>\n",
       "      <td>offer_0</td>\n",
       "      <td>1</td>\n",
       "      <td>1</td>\n",
       "      <td>1</td>\n",
       "      <td>0</td>\n",
       "    </tr>\n",
       "    <tr>\n",
       "      <th>1</th>\n",
       "      <td>10</td>\n",
       "      <td>10</td>\n",
       "      <td>5</td>\n",
       "      <td>bogo</td>\n",
       "      <td>4d5c57ea9a6940dd891ad53e9dbe8da0</td>\n",
       "      <td>offer_1</td>\n",
       "      <td>1</td>\n",
       "      <td>1</td>\n",
       "      <td>1</td>\n",
       "      <td>1</td>\n",
       "    </tr>\n",
       "    <tr>\n",
       "      <th>2</th>\n",
       "      <td>0</td>\n",
       "      <td>0</td>\n",
       "      <td>4</td>\n",
       "      <td>informational</td>\n",
       "      <td>3f207df678b143eea3cee63160fa8bed</td>\n",
       "      <td>offer_2</td>\n",
       "      <td>1</td>\n",
       "      <td>1</td>\n",
       "      <td>0</td>\n",
       "      <td>1</td>\n",
       "    </tr>\n",
       "    <tr>\n",
       "      <th>3</th>\n",
       "      <td>5</td>\n",
       "      <td>5</td>\n",
       "      <td>7</td>\n",
       "      <td>bogo</td>\n",
       "      <td>9b98b8c7a33c4b65b9aebfe6a799e6d9</td>\n",
       "      <td>offer_3</td>\n",
       "      <td>1</td>\n",
       "      <td>1</td>\n",
       "      <td>0</td>\n",
       "      <td>1</td>\n",
       "    </tr>\n",
       "    <tr>\n",
       "      <th>4</th>\n",
       "      <td>5</td>\n",
       "      <td>20</td>\n",
       "      <td>10</td>\n",
       "      <td>discount</td>\n",
       "      <td>0b1e1539f2cc45b7b9fa7c272da2e1d7</td>\n",
       "      <td>offer_4</td>\n",
       "      <td>1</td>\n",
       "      <td>0</td>\n",
       "      <td>0</td>\n",
       "      <td>1</td>\n",
       "    </tr>\n",
       "    <tr>\n",
       "      <th>5</th>\n",
       "      <td>3</td>\n",
       "      <td>7</td>\n",
       "      <td>7</td>\n",
       "      <td>discount</td>\n",
       "      <td>2298d6c36e964ae4a3e7e9706d1fb8c2</td>\n",
       "      <td>offer_5</td>\n",
       "      <td>1</td>\n",
       "      <td>1</td>\n",
       "      <td>1</td>\n",
       "      <td>1</td>\n",
       "    </tr>\n",
       "    <tr>\n",
       "      <th>6</th>\n",
       "      <td>2</td>\n",
       "      <td>10</td>\n",
       "      <td>10</td>\n",
       "      <td>discount</td>\n",
       "      <td>fafdcd668e3743c1bb461111dcafc2a4</td>\n",
       "      <td>offer_6</td>\n",
       "      <td>1</td>\n",
       "      <td>1</td>\n",
       "      <td>1</td>\n",
       "      <td>1</td>\n",
       "    </tr>\n",
       "    <tr>\n",
       "      <th>7</th>\n",
       "      <td>0</td>\n",
       "      <td>0</td>\n",
       "      <td>3</td>\n",
       "      <td>informational</td>\n",
       "      <td>5a8bc65990b245e5a138643cd4eb9837</td>\n",
       "      <td>offer_7</td>\n",
       "      <td>1</td>\n",
       "      <td>1</td>\n",
       "      <td>1</td>\n",
       "      <td>0</td>\n",
       "    </tr>\n",
       "    <tr>\n",
       "      <th>8</th>\n",
       "      <td>5</td>\n",
       "      <td>5</td>\n",
       "      <td>5</td>\n",
       "      <td>bogo</td>\n",
       "      <td>f19421c1d4aa40978ebb69ca19b0e20d</td>\n",
       "      <td>offer_8</td>\n",
       "      <td>1</td>\n",
       "      <td>1</td>\n",
       "      <td>1</td>\n",
       "      <td>1</td>\n",
       "    </tr>\n",
       "    <tr>\n",
       "      <th>9</th>\n",
       "      <td>2</td>\n",
       "      <td>10</td>\n",
       "      <td>7</td>\n",
       "      <td>discount</td>\n",
       "      <td>2906b810c7d4411798c6938adc9daaa5</td>\n",
       "      <td>offer_9</td>\n",
       "      <td>1</td>\n",
       "      <td>1</td>\n",
       "      <td>0</td>\n",
       "      <td>1</td>\n",
       "    </tr>\n",
       "  </tbody>\n",
       "</table>\n",
       "</div>"
      ],
      "text/plain": [
       "   reward_amount  difficulty  duration     offer_type  \\\n",
       "0             10          10         7           bogo   \n",
       "1             10          10         5           bogo   \n",
       "2              0           0         4  informational   \n",
       "3              5           5         7           bogo   \n",
       "4              5          20        10       discount   \n",
       "5              3           7         7       discount   \n",
       "6              2          10        10       discount   \n",
       "7              0           0         3  informational   \n",
       "8              5           5         5           bogo   \n",
       "9              2          10         7       discount   \n",
       "\n",
       "                           offer_id offer_number  email  mobile  social  web  \n",
       "0  ae264e3637204a6fb9bb56bc8210ddfd      offer_0      1       1       1    0  \n",
       "1  4d5c57ea9a6940dd891ad53e9dbe8da0      offer_1      1       1       1    1  \n",
       "2  3f207df678b143eea3cee63160fa8bed      offer_2      1       1       0    1  \n",
       "3  9b98b8c7a33c4b65b9aebfe6a799e6d9      offer_3      1       1       0    1  \n",
       "4  0b1e1539f2cc45b7b9fa7c272da2e1d7      offer_4      1       0       0    1  \n",
       "5  2298d6c36e964ae4a3e7e9706d1fb8c2      offer_5      1       1       1    1  \n",
       "6  fafdcd668e3743c1bb461111dcafc2a4      offer_6      1       1       1    1  \n",
       "7  5a8bc65990b245e5a138643cd4eb9837      offer_7      1       1       1    0  \n",
       "8  f19421c1d4aa40978ebb69ca19b0e20d      offer_8      1       1       1    1  \n",
       "9  2906b810c7d4411798c6938adc9daaa5      offer_9      1       1       0    1  "
      ]
     },
     "execution_count": 8,
     "metadata": {},
     "output_type": "execute_result"
    }
   ],
   "source": [
    "# drop channels column\n",
    "portfolio.drop('channels', axis=1, inplace=True)\n",
    "portfolio"
   ]
  },
  {
   "cell_type": "markdown",
   "metadata": {
    "hidden": true
   },
   "source": [
    "### profile: Rewards program users (17000 users x 5 fields)\n",
    "\n",
    "- gender: (categorical) M, F, O, or null (note some entries contain 'O' for other rather than M or F)\n",
    "- age: (numeric) missing value encoded as 118\n",
    "- id: (string/hash) customer id\n",
    "- became_member_on: (date) format YYYYMMDD: date when customer created an app account\n",
    "- income: (numeric) customer's income\n",
    "\n",
    "\n",
    "\n",
    "\n",
    "\n",
    "__Need to clean:__\n",
    "\n",
    "- change `id` column name to `customer_id`\n",
    "\n",
    "- Create `age_group` column, so we can see the distribution of age group in visualization section\n",
    "- Create `income_group` column, so we can see the patterns later\n",
    "- Change `profile['became_member_on']`'s dtypes as datetime, and extract `year` column. \n",
    "\n",
    "- Change `profile['age']` values which have 118 value to 'NaN' \n",
    "\n",
    "\n",
    "\n"
   ]
  },
  {
   "cell_type": "code",
   "execution_count": 9,
   "metadata": {
    "hidden": true
   },
   "outputs": [
    {
     "data": {
      "text/html": [
       "<div>\n",
       "<style scoped>\n",
       "    .dataframe tbody tr th:only-of-type {\n",
       "        vertical-align: middle;\n",
       "    }\n",
       "\n",
       "    .dataframe tbody tr th {\n",
       "        vertical-align: top;\n",
       "    }\n",
       "\n",
       "    .dataframe thead th {\n",
       "        text-align: right;\n",
       "    }\n",
       "</style>\n",
       "<table border=\"1\" class=\"dataframe\">\n",
       "  <thead>\n",
       "    <tr style=\"text-align: right;\">\n",
       "      <th></th>\n",
       "      <th>gender</th>\n",
       "      <th>age</th>\n",
       "      <th>id</th>\n",
       "      <th>became_member_on</th>\n",
       "      <th>income</th>\n",
       "    </tr>\n",
       "  </thead>\n",
       "  <tbody>\n",
       "    <tr>\n",
       "      <th>0</th>\n",
       "      <td>None</td>\n",
       "      <td>118</td>\n",
       "      <td>68be06ca386d4c31939f3a4f0e3dd783</td>\n",
       "      <td>20170212</td>\n",
       "      <td>NaN</td>\n",
       "    </tr>\n",
       "    <tr>\n",
       "      <th>1</th>\n",
       "      <td>F</td>\n",
       "      <td>55</td>\n",
       "      <td>0610b486422d4921ae7d2bf64640c50b</td>\n",
       "      <td>20170715</td>\n",
       "      <td>112000.0</td>\n",
       "    </tr>\n",
       "    <tr>\n",
       "      <th>2</th>\n",
       "      <td>None</td>\n",
       "      <td>118</td>\n",
       "      <td>38fe809add3b4fcf9315a9694bb96ff5</td>\n",
       "      <td>20180712</td>\n",
       "      <td>NaN</td>\n",
       "    </tr>\n",
       "    <tr>\n",
       "      <th>3</th>\n",
       "      <td>F</td>\n",
       "      <td>75</td>\n",
       "      <td>78afa995795e4d85b5d9ceeca43f5fef</td>\n",
       "      <td>20170509</td>\n",
       "      <td>100000.0</td>\n",
       "    </tr>\n",
       "    <tr>\n",
       "      <th>4</th>\n",
       "      <td>None</td>\n",
       "      <td>118</td>\n",
       "      <td>a03223e636434f42ac4c3df47e8bac43</td>\n",
       "      <td>20170804</td>\n",
       "      <td>NaN</td>\n",
       "    </tr>\n",
       "  </tbody>\n",
       "</table>\n",
       "</div>"
      ],
      "text/plain": [
       "  gender  age                                id  became_member_on    income\n",
       "0   None  118  68be06ca386d4c31939f3a4f0e3dd783          20170212       NaN\n",
       "1      F   55  0610b486422d4921ae7d2bf64640c50b          20170715  112000.0\n",
       "2   None  118  38fe809add3b4fcf9315a9694bb96ff5          20180712       NaN\n",
       "3      F   75  78afa995795e4d85b5d9ceeca43f5fef          20170509  100000.0\n",
       "4   None  118  a03223e636434f42ac4c3df47e8bac43          20170804       NaN"
      ]
     },
     "execution_count": 9,
     "metadata": {},
     "output_type": "execute_result"
    }
   ],
   "source": [
    "profile.head()"
   ]
  },
  {
   "cell_type": "code",
   "execution_count": 10,
   "metadata": {
    "hidden": true
   },
   "outputs": [],
   "source": [
    "# Rename id column as customer_id to reduce confusion when combining three tables later\n",
    "profile = profile.rename(columns={'id': 'customer_id'})"
   ]
  },
  {
   "cell_type": "code",
   "execution_count": 11,
   "metadata": {
    "hidden": true
   },
   "outputs": [],
   "source": [
    "# Create age_group column and the value of 118 will be `NaN` in the AgeGroup.\n",
    "bins = [10,20,30,40,50,60,70,80,90,100,105]\n",
    "labels = ['10s','20s','30s', '40s', '50s', '60s', '70s', '80s', '90s', '100s']\n",
    "\n",
    "profile['age_group'] = pd.cut(profile['age'], bins=bins, labels=labels, right=False)\n",
    "\n",
    "# replace missing values with \"unknown\"\n",
    "profile['age_group'] = profile['age_group'].cat.add_categories('unknown').fillna('unknown')"
   ]
  },
  {
   "cell_type": "code",
   "execution_count": 12,
   "metadata": {
    "hidden": true
   },
   "outputs": [],
   "source": [
    "# Create income_group column \n",
    "income_bins = [25000, 40000, 50000, 60000, 70000, 80000, 90000, 100000, 110000, 120000, 1250000]\n",
    "income_labels = ['30K', '40K', '50K', '60K', '70K', '80K', '90K', '100K', '110K', '120K']\n",
    "\n",
    "profile['income_group'] = pd.cut(profile['income'], bins=income_bins,\n",
    "                                labels=income_labels, right=False)\n",
    "\n",
    "# replace missing values with \"unknown\"\n",
    "profile['income_group'] = profile['income_group'].cat.add_categories('unknown').fillna('unknown')"
   ]
  },
  {
   "cell_type": "code",
   "execution_count": 13,
   "metadata": {
    "hidden": true
   },
   "outputs": [
    {
     "data": {
      "text/html": [
       "<div>\n",
       "<style scoped>\n",
       "    .dataframe tbody tr th:only-of-type {\n",
       "        vertical-align: middle;\n",
       "    }\n",
       "\n",
       "    .dataframe tbody tr th {\n",
       "        vertical-align: top;\n",
       "    }\n",
       "\n",
       "    .dataframe thead th {\n",
       "        text-align: right;\n",
       "    }\n",
       "</style>\n",
       "<table border=\"1\" class=\"dataframe\">\n",
       "  <thead>\n",
       "    <tr style=\"text-align: right;\">\n",
       "      <th></th>\n",
       "      <th>gender</th>\n",
       "      <th>age</th>\n",
       "      <th>customer_id</th>\n",
       "      <th>became_member_on</th>\n",
       "      <th>income</th>\n",
       "      <th>age_group</th>\n",
       "      <th>income_group</th>\n",
       "      <th>became_date</th>\n",
       "      <th>year</th>\n",
       "    </tr>\n",
       "  </thead>\n",
       "  <tbody>\n",
       "    <tr>\n",
       "      <th>0</th>\n",
       "      <td>None</td>\n",
       "      <td>118</td>\n",
       "      <td>68be06ca386d4c31939f3a4f0e3dd783</td>\n",
       "      <td>20170212</td>\n",
       "      <td>NaN</td>\n",
       "      <td>unknown</td>\n",
       "      <td>unknown</td>\n",
       "      <td>2017-02-12</td>\n",
       "      <td>2017</td>\n",
       "    </tr>\n",
       "    <tr>\n",
       "      <th>1</th>\n",
       "      <td>F</td>\n",
       "      <td>55</td>\n",
       "      <td>0610b486422d4921ae7d2bf64640c50b</td>\n",
       "      <td>20170715</td>\n",
       "      <td>112000.0</td>\n",
       "      <td>50s</td>\n",
       "      <td>110K</td>\n",
       "      <td>2017-07-15</td>\n",
       "      <td>2017</td>\n",
       "    </tr>\n",
       "    <tr>\n",
       "      <th>2</th>\n",
       "      <td>None</td>\n",
       "      <td>118</td>\n",
       "      <td>38fe809add3b4fcf9315a9694bb96ff5</td>\n",
       "      <td>20180712</td>\n",
       "      <td>NaN</td>\n",
       "      <td>unknown</td>\n",
       "      <td>unknown</td>\n",
       "      <td>2018-07-12</td>\n",
       "      <td>2018</td>\n",
       "    </tr>\n",
       "    <tr>\n",
       "      <th>3</th>\n",
       "      <td>F</td>\n",
       "      <td>75</td>\n",
       "      <td>78afa995795e4d85b5d9ceeca43f5fef</td>\n",
       "      <td>20170509</td>\n",
       "      <td>100000.0</td>\n",
       "      <td>70s</td>\n",
       "      <td>100K</td>\n",
       "      <td>2017-05-09</td>\n",
       "      <td>2017</td>\n",
       "    </tr>\n",
       "    <tr>\n",
       "      <th>4</th>\n",
       "      <td>None</td>\n",
       "      <td>118</td>\n",
       "      <td>a03223e636434f42ac4c3df47e8bac43</td>\n",
       "      <td>20170804</td>\n",
       "      <td>NaN</td>\n",
       "      <td>unknown</td>\n",
       "      <td>unknown</td>\n",
       "      <td>2017-08-04</td>\n",
       "      <td>2017</td>\n",
       "    </tr>\n",
       "  </tbody>\n",
       "</table>\n",
       "</div>"
      ],
      "text/plain": [
       "  gender  age                       customer_id  became_member_on    income  \\\n",
       "0   None  118  68be06ca386d4c31939f3a4f0e3dd783          20170212       NaN   \n",
       "1      F   55  0610b486422d4921ae7d2bf64640c50b          20170715  112000.0   \n",
       "2   None  118  38fe809add3b4fcf9315a9694bb96ff5          20180712       NaN   \n",
       "3      F   75  78afa995795e4d85b5d9ceeca43f5fef          20170509  100000.0   \n",
       "4   None  118  a03223e636434f42ac4c3df47e8bac43          20170804       NaN   \n",
       "\n",
       "  age_group income_group became_date  year  \n",
       "0   unknown      unknown  2017-02-12  2017  \n",
       "1       50s         110K  2017-07-15  2017  \n",
       "2   unknown      unknown  2018-07-12  2018  \n",
       "3       70s         100K  2017-05-09  2017  \n",
       "4   unknown      unknown  2017-08-04  2017  "
      ]
     },
     "execution_count": 13,
     "metadata": {},
     "output_type": "execute_result"
    }
   ],
   "source": [
    "profile['became_date'] = pd.to_datetime(profile['became_member_on'], format='%Y%m%d')\n",
    "profile['year'] = profile['became_date'].dt.year\n",
    "#profile['month'] = profile['became_date'].dt.month\n",
    "#profile['day'] = profile['became_date'].dt.day\n",
    "\n",
    "profile.head()"
   ]
  },
  {
   "cell_type": "code",
   "execution_count": 14,
   "metadata": {
    "hidden": true
   },
   "outputs": [
    {
     "data": {
      "text/plain": [
       "gender              2175\n",
       "age                    0\n",
       "customer_id            0\n",
       "became_member_on       0\n",
       "income              2175\n",
       "age_group              0\n",
       "income_group           0\n",
       "became_date            0\n",
       "year                   0\n",
       "dtype: int64"
      ]
     },
     "execution_count": 14,
     "metadata": {},
     "output_type": "execute_result"
    }
   ],
   "source": [
    "# check if there are missing values\n",
    "profile.isnull().sum()"
   ]
  },
  {
   "cell_type": "code",
   "execution_count": 15,
   "metadata": {
    "hidden": true
   },
   "outputs": [
    {
     "data": {
      "text/plain": [
       "(17000, 9)"
      ]
     },
     "execution_count": 15,
     "metadata": {},
     "output_type": "execute_result"
    }
   ],
   "source": [
    "profile.shape"
   ]
  },
  {
   "cell_type": "markdown",
   "metadata": {
    "hidden": true
   },
   "source": [
    "Noted that customers who don't have their gender information in dataset also don't have income and age information neither. "
   ]
  },
  {
   "cell_type": "code",
   "execution_count": 16,
   "metadata": {
    "hidden": true
   },
   "outputs": [],
   "source": [
    "assert list(profile[profile['gender']=='None'].index) == list(profile[profile['income']=='NaN'].index)"
   ]
  },
  {
   "cell_type": "code",
   "execution_count": 17,
   "metadata": {
    "hidden": true
   },
   "outputs": [
    {
     "data": {
      "text/html": [
       "<div>\n",
       "<style scoped>\n",
       "    .dataframe tbody tr th:only-of-type {\n",
       "        vertical-align: middle;\n",
       "    }\n",
       "\n",
       "    .dataframe tbody tr th {\n",
       "        vertical-align: top;\n",
       "    }\n",
       "\n",
       "    .dataframe thead th {\n",
       "        text-align: right;\n",
       "    }\n",
       "</style>\n",
       "<table border=\"1\" class=\"dataframe\">\n",
       "  <thead>\n",
       "    <tr style=\"text-align: right;\">\n",
       "      <th></th>\n",
       "      <th>gender</th>\n",
       "      <th>age</th>\n",
       "      <th>customer_id</th>\n",
       "      <th>became_member_on</th>\n",
       "      <th>income</th>\n",
       "      <th>age_group</th>\n",
       "      <th>income_group</th>\n",
       "      <th>became_date</th>\n",
       "      <th>year</th>\n",
       "    </tr>\n",
       "  </thead>\n",
       "  <tbody>\n",
       "    <tr>\n",
       "      <th>0</th>\n",
       "      <td>None</td>\n",
       "      <td>NaN</td>\n",
       "      <td>68be06ca386d4c31939f3a4f0e3dd783</td>\n",
       "      <td>20170212</td>\n",
       "      <td>NaN</td>\n",
       "      <td>unknown</td>\n",
       "      <td>unknown</td>\n",
       "      <td>2017-02-12</td>\n",
       "      <td>2017</td>\n",
       "    </tr>\n",
       "    <tr>\n",
       "      <th>1</th>\n",
       "      <td>F</td>\n",
       "      <td>55</td>\n",
       "      <td>0610b486422d4921ae7d2bf64640c50b</td>\n",
       "      <td>20170715</td>\n",
       "      <td>112000.0</td>\n",
       "      <td>50s</td>\n",
       "      <td>110K</td>\n",
       "      <td>2017-07-15</td>\n",
       "      <td>2017</td>\n",
       "    </tr>\n",
       "    <tr>\n",
       "      <th>2</th>\n",
       "      <td>None</td>\n",
       "      <td>NaN</td>\n",
       "      <td>38fe809add3b4fcf9315a9694bb96ff5</td>\n",
       "      <td>20180712</td>\n",
       "      <td>NaN</td>\n",
       "      <td>unknown</td>\n",
       "      <td>unknown</td>\n",
       "      <td>2018-07-12</td>\n",
       "      <td>2018</td>\n",
       "    </tr>\n",
       "    <tr>\n",
       "      <th>3</th>\n",
       "      <td>F</td>\n",
       "      <td>75</td>\n",
       "      <td>78afa995795e4d85b5d9ceeca43f5fef</td>\n",
       "      <td>20170509</td>\n",
       "      <td>100000.0</td>\n",
       "      <td>70s</td>\n",
       "      <td>100K</td>\n",
       "      <td>2017-05-09</td>\n",
       "      <td>2017</td>\n",
       "    </tr>\n",
       "    <tr>\n",
       "      <th>4</th>\n",
       "      <td>None</td>\n",
       "      <td>NaN</td>\n",
       "      <td>a03223e636434f42ac4c3df47e8bac43</td>\n",
       "      <td>20170804</td>\n",
       "      <td>NaN</td>\n",
       "      <td>unknown</td>\n",
       "      <td>unknown</td>\n",
       "      <td>2017-08-04</td>\n",
       "      <td>2017</td>\n",
       "    </tr>\n",
       "  </tbody>\n",
       "</table>\n",
       "</div>"
      ],
      "text/plain": [
       "  gender  age                       customer_id  became_member_on    income  \\\n",
       "0   None  NaN  68be06ca386d4c31939f3a4f0e3dd783          20170212       NaN   \n",
       "1      F   55  0610b486422d4921ae7d2bf64640c50b          20170715  112000.0   \n",
       "2   None  NaN  38fe809add3b4fcf9315a9694bb96ff5          20180712       NaN   \n",
       "3      F   75  78afa995795e4d85b5d9ceeca43f5fef          20170509  100000.0   \n",
       "4   None  NaN  a03223e636434f42ac4c3df47e8bac43          20170804       NaN   \n",
       "\n",
       "  age_group income_group became_date  year  \n",
       "0   unknown      unknown  2017-02-12  2017  \n",
       "1       50s         110K  2017-07-15  2017  \n",
       "2   unknown      unknown  2018-07-12  2018  \n",
       "3       70s         100K  2017-05-09  2017  \n",
       "4   unknown      unknown  2017-08-04  2017  "
      ]
     },
     "execution_count": 17,
     "metadata": {},
     "output_type": "execute_result"
    }
   ],
   "source": [
    "# change profile['age']==118 values to NaN\n",
    "profile['age'] = profile['age'].replace(118, 'NaN')\n",
    "profile.head()"
   ]
  },
  {
   "cell_type": "code",
   "execution_count": 18,
   "metadata": {
    "hidden": true
   },
   "outputs": [
    {
     "data": {
      "text/html": [
       "<div>\n",
       "<style scoped>\n",
       "    .dataframe tbody tr th:only-of-type {\n",
       "        vertical-align: middle;\n",
       "    }\n",
       "\n",
       "    .dataframe tbody tr th {\n",
       "        vertical-align: top;\n",
       "    }\n",
       "\n",
       "    .dataframe thead th {\n",
       "        text-align: right;\n",
       "    }\n",
       "</style>\n",
       "<table border=\"1\" class=\"dataframe\">\n",
       "  <thead>\n",
       "    <tr style=\"text-align: right;\">\n",
       "      <th></th>\n",
       "      <th>gender</th>\n",
       "      <th>age</th>\n",
       "      <th>customer_id</th>\n",
       "      <th>income</th>\n",
       "      <th>age_group</th>\n",
       "      <th>income_group</th>\n",
       "      <th>became_date</th>\n",
       "      <th>year</th>\n",
       "    </tr>\n",
       "  </thead>\n",
       "  <tbody>\n",
       "    <tr>\n",
       "      <th>0</th>\n",
       "      <td>None</td>\n",
       "      <td>NaN</td>\n",
       "      <td>68be06ca386d4c31939f3a4f0e3dd783</td>\n",
       "      <td>NaN</td>\n",
       "      <td>unknown</td>\n",
       "      <td>unknown</td>\n",
       "      <td>2017-02-12</td>\n",
       "      <td>2017</td>\n",
       "    </tr>\n",
       "    <tr>\n",
       "      <th>1</th>\n",
       "      <td>F</td>\n",
       "      <td>55</td>\n",
       "      <td>0610b486422d4921ae7d2bf64640c50b</td>\n",
       "      <td>112000.0</td>\n",
       "      <td>50s</td>\n",
       "      <td>110K</td>\n",
       "      <td>2017-07-15</td>\n",
       "      <td>2017</td>\n",
       "    </tr>\n",
       "    <tr>\n",
       "      <th>2</th>\n",
       "      <td>None</td>\n",
       "      <td>NaN</td>\n",
       "      <td>38fe809add3b4fcf9315a9694bb96ff5</td>\n",
       "      <td>NaN</td>\n",
       "      <td>unknown</td>\n",
       "      <td>unknown</td>\n",
       "      <td>2018-07-12</td>\n",
       "      <td>2018</td>\n",
       "    </tr>\n",
       "    <tr>\n",
       "      <th>3</th>\n",
       "      <td>F</td>\n",
       "      <td>75</td>\n",
       "      <td>78afa995795e4d85b5d9ceeca43f5fef</td>\n",
       "      <td>100000.0</td>\n",
       "      <td>70s</td>\n",
       "      <td>100K</td>\n",
       "      <td>2017-05-09</td>\n",
       "      <td>2017</td>\n",
       "    </tr>\n",
       "    <tr>\n",
       "      <th>4</th>\n",
       "      <td>None</td>\n",
       "      <td>NaN</td>\n",
       "      <td>a03223e636434f42ac4c3df47e8bac43</td>\n",
       "      <td>NaN</td>\n",
       "      <td>unknown</td>\n",
       "      <td>unknown</td>\n",
       "      <td>2017-08-04</td>\n",
       "      <td>2017</td>\n",
       "    </tr>\n",
       "  </tbody>\n",
       "</table>\n",
       "</div>"
      ],
      "text/plain": [
       "  gender  age                       customer_id    income age_group  \\\n",
       "0   None  NaN  68be06ca386d4c31939f3a4f0e3dd783       NaN   unknown   \n",
       "1      F   55  0610b486422d4921ae7d2bf64640c50b  112000.0       50s   \n",
       "2   None  NaN  38fe809add3b4fcf9315a9694bb96ff5       NaN   unknown   \n",
       "3      F   75  78afa995795e4d85b5d9ceeca43f5fef  100000.0       70s   \n",
       "4   None  NaN  a03223e636434f42ac4c3df47e8bac43       NaN   unknown   \n",
       "\n",
       "  income_group became_date  year  \n",
       "0      unknown  2017-02-12  2017  \n",
       "1         110K  2017-07-15  2017  \n",
       "2      unknown  2018-07-12  2018  \n",
       "3         100K  2017-05-09  2017  \n",
       "4      unknown  2017-08-04  2017  "
      ]
     },
     "execution_count": 18,
     "metadata": {},
     "output_type": "execute_result"
    }
   ],
   "source": [
    "# drop became_member_on\n",
    "profile.drop('became_member_on', axis=1, inplace=True)\n",
    "profile.head()"
   ]
  },
  {
   "cell_type": "markdown",
   "metadata": {
    "hidden": true
   },
   "source": [
    "### transcript: Event log (306648 events x 4 fields)\n",
    "\n",
    "- person: (string/hash) customer id\n",
    "- event: (string) record description (offer received, offer viewed, transaction, offer completed)\n",
    "- value: (dictionary) different values depending on event type\n",
    "    - offer id: (string/hash) not associated with any \"transaction\"\n",
    "    - amount: (numeric) money spent in \"transaction\"\n",
    "    - reward: (numeric) money gained from \"offer completed\"\n",
    "- time: (numeric) hours after start of test\n",
    "\n",
    "\n",
    "__Need to clean:__\n",
    "\n",
    "- Change `person` column name to `customer_id`\n",
    "- Create columns for different event type values - offer_id, amount, and reward by extracting inf from `value` column. \n",
    "\n",
    "    "
   ]
  },
  {
   "cell_type": "code",
   "execution_count": 19,
   "metadata": {
    "hidden": true
   },
   "outputs": [],
   "source": [
    "transcript = transcript.rename(columns={'person': 'customer_id'})"
   ]
  },
  {
   "cell_type": "markdown",
   "metadata": {
    "hidden": true
   },
   "source": [
    "transcript['value'] has a combination of 'id', 'offer id', 'reward' and 'amount'. "
   ]
  },
  {
   "cell_type": "code",
   "execution_count": 20,
   "metadata": {
    "hidden": true
   },
   "outputs": [],
   "source": [
    "def split_values(all_values):\n",
    "    \"\"\" Function to get each value depending on event type from transcript.value column, \n",
    "    and create each column of offer_id, reward, and amount that has boolean values (0,1)\"\"\"\n",
    "    # initialize lists\n",
    "    value_lists = [[], [], []]\n",
    "    for val in all_values:\n",
    "        keys = val.keys()\n",
    "        \n",
    "        # getting the 'offer id' and 'offer_id'.\n",
    "        if 'offer id' in keys: \n",
    "            value_lists[0].append(val['offer id'])\n",
    "        else:\n",
    "            if 'offer_id' in keys: value_lists[0].append(val['offer_id'])\n",
    "            else: value_lists[0].append(np.nan)\n",
    "                \n",
    "        # getting 'reward'\n",
    "        if 'reward' in keys: \n",
    "            value_lists[1].append(val['reward'])\n",
    "        else:\n",
    "            value_lists[1].append(np.nan)\n",
    "            \n",
    "        # getting 'amount'\n",
    "        if 'amount' in keys: \n",
    "            value_lists[2].append(val['amount'])\n",
    "        else:\n",
    "            value_lists[2].append(np.nan)\n",
    "            \n",
    "        lst_offer = value_lists[0]\n",
    "        lst_reward = value_lists[1]\n",
    "        lst_amount = value_lists[2]\n",
    "        \n",
    "    return lst_offer, lst_reward, lst_amount"
   ]
  },
  {
   "cell_type": "code",
   "execution_count": 21,
   "metadata": {
    "hidden": true
   },
   "outputs": [],
   "source": [
    "# unzip the columns value to get {offer_id, reward, amount}\n",
    "transcript['offer_id'], transcript['reward'], transcript['amount'] = split_values(transcript['value'])"
   ]
  },
  {
   "cell_type": "code",
   "execution_count": 22,
   "metadata": {
    "hidden": true
   },
   "outputs": [
    {
     "data": {
      "text/html": [
       "<div>\n",
       "<style scoped>\n",
       "    .dataframe tbody tr th:only-of-type {\n",
       "        vertical-align: middle;\n",
       "    }\n",
       "\n",
       "    .dataframe tbody tr th {\n",
       "        vertical-align: top;\n",
       "    }\n",
       "\n",
       "    .dataframe thead th {\n",
       "        text-align: right;\n",
       "    }\n",
       "</style>\n",
       "<table border=\"1\" class=\"dataframe\">\n",
       "  <thead>\n",
       "    <tr style=\"text-align: right;\">\n",
       "      <th></th>\n",
       "      <th>customer_id</th>\n",
       "      <th>event</th>\n",
       "      <th>value</th>\n",
       "      <th>time</th>\n",
       "      <th>offer_id</th>\n",
       "      <th>reward</th>\n",
       "      <th>amount</th>\n",
       "    </tr>\n",
       "  </thead>\n",
       "  <tbody>\n",
       "    <tr>\n",
       "      <th>0</th>\n",
       "      <td>78afa995795e4d85b5d9ceeca43f5fef</td>\n",
       "      <td>offer received</td>\n",
       "      <td>{'offer id': '9b98b8c7a33c4b65b9aebfe6a799e6d9'}</td>\n",
       "      <td>0</td>\n",
       "      <td>9b98b8c7a33c4b65b9aebfe6a799e6d9</td>\n",
       "      <td>NaN</td>\n",
       "      <td>NaN</td>\n",
       "    </tr>\n",
       "    <tr>\n",
       "      <th>1</th>\n",
       "      <td>a03223e636434f42ac4c3df47e8bac43</td>\n",
       "      <td>offer received</td>\n",
       "      <td>{'offer id': '0b1e1539f2cc45b7b9fa7c272da2e1d7'}</td>\n",
       "      <td>0</td>\n",
       "      <td>0b1e1539f2cc45b7b9fa7c272da2e1d7</td>\n",
       "      <td>NaN</td>\n",
       "      <td>NaN</td>\n",
       "    </tr>\n",
       "    <tr>\n",
       "      <th>2</th>\n",
       "      <td>e2127556f4f64592b11af22de27a7932</td>\n",
       "      <td>offer received</td>\n",
       "      <td>{'offer id': '2906b810c7d4411798c6938adc9daaa5'}</td>\n",
       "      <td>0</td>\n",
       "      <td>2906b810c7d4411798c6938adc9daaa5</td>\n",
       "      <td>NaN</td>\n",
       "      <td>NaN</td>\n",
       "    </tr>\n",
       "    <tr>\n",
       "      <th>3</th>\n",
       "      <td>8ec6ce2a7e7949b1bf142def7d0e0586</td>\n",
       "      <td>offer received</td>\n",
       "      <td>{'offer id': 'fafdcd668e3743c1bb461111dcafc2a4'}</td>\n",
       "      <td>0</td>\n",
       "      <td>fafdcd668e3743c1bb461111dcafc2a4</td>\n",
       "      <td>NaN</td>\n",
       "      <td>NaN</td>\n",
       "    </tr>\n",
       "    <tr>\n",
       "      <th>4</th>\n",
       "      <td>68617ca6246f4fbc85e91a2a49552598</td>\n",
       "      <td>offer received</td>\n",
       "      <td>{'offer id': '4d5c57ea9a6940dd891ad53e9dbe8da0'}</td>\n",
       "      <td>0</td>\n",
       "      <td>4d5c57ea9a6940dd891ad53e9dbe8da0</td>\n",
       "      <td>NaN</td>\n",
       "      <td>NaN</td>\n",
       "    </tr>\n",
       "  </tbody>\n",
       "</table>\n",
       "</div>"
      ],
      "text/plain": [
       "                        customer_id           event  \\\n",
       "0  78afa995795e4d85b5d9ceeca43f5fef  offer received   \n",
       "1  a03223e636434f42ac4c3df47e8bac43  offer received   \n",
       "2  e2127556f4f64592b11af22de27a7932  offer received   \n",
       "3  8ec6ce2a7e7949b1bf142def7d0e0586  offer received   \n",
       "4  68617ca6246f4fbc85e91a2a49552598  offer received   \n",
       "\n",
       "                                              value  time  \\\n",
       "0  {'offer id': '9b98b8c7a33c4b65b9aebfe6a799e6d9'}     0   \n",
       "1  {'offer id': '0b1e1539f2cc45b7b9fa7c272da2e1d7'}     0   \n",
       "2  {'offer id': '2906b810c7d4411798c6938adc9daaa5'}     0   \n",
       "3  {'offer id': 'fafdcd668e3743c1bb461111dcafc2a4'}     0   \n",
       "4  {'offer id': '4d5c57ea9a6940dd891ad53e9dbe8da0'}     0   \n",
       "\n",
       "                           offer_id  reward  amount  \n",
       "0  9b98b8c7a33c4b65b9aebfe6a799e6d9     NaN     NaN  \n",
       "1  0b1e1539f2cc45b7b9fa7c272da2e1d7     NaN     NaN  \n",
       "2  2906b810c7d4411798c6938adc9daaa5     NaN     NaN  \n",
       "3  fafdcd668e3743c1bb461111dcafc2a4     NaN     NaN  \n",
       "4  4d5c57ea9a6940dd891ad53e9dbe8da0     NaN     NaN  "
      ]
     },
     "execution_count": 22,
     "metadata": {},
     "output_type": "execute_result"
    }
   ],
   "source": [
    "transcript.head()"
   ]
  },
  {
   "cell_type": "markdown",
   "metadata": {
    "hidden": true
   },
   "source": [
    "There are four types of events: __'offer received', 'offer viewed', 'transaction', 'offer completed'__\n",
    "\n",
    "- When event shows \"__offer received__\", the value has 'offer id'\n",
    "- When event shows \"__offer viewed__\", the value has 'offer id'\n",
    "- When event shows \"__transaction__\", the value has 'amount'\n",
    "- When event shows \"__offer completed__\", the value has 'offer id' and 'reward'"
   ]
  },
  {
   "cell_type": "code",
   "execution_count": 23,
   "metadata": {
    "hidden": true
   },
   "outputs": [],
   "source": [
    "# drop value column\n",
    "transcript.drop('value', axis=1, inplace=True)"
   ]
  },
  {
   "cell_type": "markdown",
   "metadata": {
    "hidden": true
   },
   "source": [
    "### Merge datasets\n",
    "\n",
    "- Combine three tables and create df dataframe "
   ]
  },
  {
   "cell_type": "code",
   "execution_count": 24,
   "metadata": {
    "hidden": true
   },
   "outputs": [
    {
     "data": {
      "text/html": [
       "<div>\n",
       "<style scoped>\n",
       "    .dataframe tbody tr th:only-of-type {\n",
       "        vertical-align: middle;\n",
       "    }\n",
       "\n",
       "    .dataframe tbody tr th {\n",
       "        vertical-align: top;\n",
       "    }\n",
       "\n",
       "    .dataframe thead th {\n",
       "        text-align: right;\n",
       "    }\n",
       "</style>\n",
       "<table border=\"1\" class=\"dataframe\">\n",
       "  <thead>\n",
       "    <tr style=\"text-align: right;\">\n",
       "      <th></th>\n",
       "      <th>customer_id</th>\n",
       "      <th>event</th>\n",
       "      <th>time</th>\n",
       "      <th>offer_id</th>\n",
       "      <th>reward</th>\n",
       "      <th>amount</th>\n",
       "      <th>gender</th>\n",
       "      <th>age</th>\n",
       "      <th>income</th>\n",
       "      <th>age_group</th>\n",
       "      <th>income_group</th>\n",
       "      <th>became_date</th>\n",
       "      <th>year</th>\n",
       "      <th>reward_amount</th>\n",
       "      <th>difficulty</th>\n",
       "      <th>duration</th>\n",
       "      <th>offer_type</th>\n",
       "      <th>offer_number</th>\n",
       "      <th>email</th>\n",
       "      <th>mobile</th>\n",
       "      <th>social</th>\n",
       "      <th>web</th>\n",
       "    </tr>\n",
       "  </thead>\n",
       "  <tbody>\n",
       "    <tr>\n",
       "      <th>0</th>\n",
       "      <td>78afa995795e4d85b5d9ceeca43f5fef</td>\n",
       "      <td>offer received</td>\n",
       "      <td>0</td>\n",
       "      <td>9b98b8c7a33c4b65b9aebfe6a799e6d9</td>\n",
       "      <td>NaN</td>\n",
       "      <td>NaN</td>\n",
       "      <td>F</td>\n",
       "      <td>75</td>\n",
       "      <td>100000.0</td>\n",
       "      <td>70s</td>\n",
       "      <td>100K</td>\n",
       "      <td>2017-05-09</td>\n",
       "      <td>2017</td>\n",
       "      <td>5.0</td>\n",
       "      <td>5.0</td>\n",
       "      <td>7.0</td>\n",
       "      <td>bogo</td>\n",
       "      <td>offer_3</td>\n",
       "      <td>1.0</td>\n",
       "      <td>1.0</td>\n",
       "      <td>0.0</td>\n",
       "      <td>1.0</td>\n",
       "    </tr>\n",
       "    <tr>\n",
       "      <th>1</th>\n",
       "      <td>a03223e636434f42ac4c3df47e8bac43</td>\n",
       "      <td>offer received</td>\n",
       "      <td>0</td>\n",
       "      <td>0b1e1539f2cc45b7b9fa7c272da2e1d7</td>\n",
       "      <td>NaN</td>\n",
       "      <td>NaN</td>\n",
       "      <td>None</td>\n",
       "      <td>NaN</td>\n",
       "      <td>NaN</td>\n",
       "      <td>unknown</td>\n",
       "      <td>unknown</td>\n",
       "      <td>2017-08-04</td>\n",
       "      <td>2017</td>\n",
       "      <td>5.0</td>\n",
       "      <td>20.0</td>\n",
       "      <td>10.0</td>\n",
       "      <td>discount</td>\n",
       "      <td>offer_4</td>\n",
       "      <td>1.0</td>\n",
       "      <td>0.0</td>\n",
       "      <td>0.0</td>\n",
       "      <td>1.0</td>\n",
       "    </tr>\n",
       "    <tr>\n",
       "      <th>2</th>\n",
       "      <td>e2127556f4f64592b11af22de27a7932</td>\n",
       "      <td>offer received</td>\n",
       "      <td>0</td>\n",
       "      <td>2906b810c7d4411798c6938adc9daaa5</td>\n",
       "      <td>NaN</td>\n",
       "      <td>NaN</td>\n",
       "      <td>M</td>\n",
       "      <td>68</td>\n",
       "      <td>70000.0</td>\n",
       "      <td>60s</td>\n",
       "      <td>70K</td>\n",
       "      <td>2018-04-26</td>\n",
       "      <td>2018</td>\n",
       "      <td>2.0</td>\n",
       "      <td>10.0</td>\n",
       "      <td>7.0</td>\n",
       "      <td>discount</td>\n",
       "      <td>offer_9</td>\n",
       "      <td>1.0</td>\n",
       "      <td>1.0</td>\n",
       "      <td>0.0</td>\n",
       "      <td>1.0</td>\n",
       "    </tr>\n",
       "    <tr>\n",
       "      <th>3</th>\n",
       "      <td>8ec6ce2a7e7949b1bf142def7d0e0586</td>\n",
       "      <td>offer received</td>\n",
       "      <td>0</td>\n",
       "      <td>fafdcd668e3743c1bb461111dcafc2a4</td>\n",
       "      <td>NaN</td>\n",
       "      <td>NaN</td>\n",
       "      <td>None</td>\n",
       "      <td>NaN</td>\n",
       "      <td>NaN</td>\n",
       "      <td>unknown</td>\n",
       "      <td>unknown</td>\n",
       "      <td>2017-09-25</td>\n",
       "      <td>2017</td>\n",
       "      <td>2.0</td>\n",
       "      <td>10.0</td>\n",
       "      <td>10.0</td>\n",
       "      <td>discount</td>\n",
       "      <td>offer_6</td>\n",
       "      <td>1.0</td>\n",
       "      <td>1.0</td>\n",
       "      <td>1.0</td>\n",
       "      <td>1.0</td>\n",
       "    </tr>\n",
       "    <tr>\n",
       "      <th>4</th>\n",
       "      <td>68617ca6246f4fbc85e91a2a49552598</td>\n",
       "      <td>offer received</td>\n",
       "      <td>0</td>\n",
       "      <td>4d5c57ea9a6940dd891ad53e9dbe8da0</td>\n",
       "      <td>NaN</td>\n",
       "      <td>NaN</td>\n",
       "      <td>None</td>\n",
       "      <td>NaN</td>\n",
       "      <td>NaN</td>\n",
       "      <td>unknown</td>\n",
       "      <td>unknown</td>\n",
       "      <td>2017-10-02</td>\n",
       "      <td>2017</td>\n",
       "      <td>10.0</td>\n",
       "      <td>10.0</td>\n",
       "      <td>5.0</td>\n",
       "      <td>bogo</td>\n",
       "      <td>offer_1</td>\n",
       "      <td>1.0</td>\n",
       "      <td>1.0</td>\n",
       "      <td>1.0</td>\n",
       "      <td>1.0</td>\n",
       "    </tr>\n",
       "  </tbody>\n",
       "</table>\n",
       "</div>"
      ],
      "text/plain": [
       "                        customer_id           event  time  \\\n",
       "0  78afa995795e4d85b5d9ceeca43f5fef  offer received     0   \n",
       "1  a03223e636434f42ac4c3df47e8bac43  offer received     0   \n",
       "2  e2127556f4f64592b11af22de27a7932  offer received     0   \n",
       "3  8ec6ce2a7e7949b1bf142def7d0e0586  offer received     0   \n",
       "4  68617ca6246f4fbc85e91a2a49552598  offer received     0   \n",
       "\n",
       "                           offer_id  reward  amount gender  age    income  \\\n",
       "0  9b98b8c7a33c4b65b9aebfe6a799e6d9     NaN     NaN      F   75  100000.0   \n",
       "1  0b1e1539f2cc45b7b9fa7c272da2e1d7     NaN     NaN   None  NaN       NaN   \n",
       "2  2906b810c7d4411798c6938adc9daaa5     NaN     NaN      M   68   70000.0   \n",
       "3  fafdcd668e3743c1bb461111dcafc2a4     NaN     NaN   None  NaN       NaN   \n",
       "4  4d5c57ea9a6940dd891ad53e9dbe8da0     NaN     NaN   None  NaN       NaN   \n",
       "\n",
       "  age_group income_group became_date  year  reward_amount  difficulty  \\\n",
       "0       70s         100K  2017-05-09  2017            5.0         5.0   \n",
       "1   unknown      unknown  2017-08-04  2017            5.0        20.0   \n",
       "2       60s          70K  2018-04-26  2018            2.0        10.0   \n",
       "3   unknown      unknown  2017-09-25  2017            2.0        10.0   \n",
       "4   unknown      unknown  2017-10-02  2017           10.0        10.0   \n",
       "\n",
       "   duration offer_type offer_number  email  mobile  social  web  \n",
       "0       7.0       bogo      offer_3    1.0     1.0     0.0  1.0  \n",
       "1      10.0   discount      offer_4    1.0     0.0     0.0  1.0  \n",
       "2       7.0   discount      offer_9    1.0     1.0     0.0  1.0  \n",
       "3      10.0   discount      offer_6    1.0     1.0     1.0  1.0  \n",
       "4       5.0       bogo      offer_1    1.0     1.0     1.0  1.0  "
      ]
     },
     "execution_count": 24,
     "metadata": {},
     "output_type": "execute_result"
    }
   ],
   "source": [
    "transcript = transcript.merge(profile, how='left', on='customer_id')\n",
    "df = transcript.merge(portfolio, how='left', on='offer_id')\n",
    "df.head()"
   ]
  },
  {
   "cell_type": "code",
   "execution_count": 25,
   "metadata": {
    "hidden": true
   },
   "outputs": [
    {
     "data": {
      "text/plain": [
       "(306534, 22)"
      ]
     },
     "execution_count": 25,
     "metadata": {},
     "output_type": "execute_result"
    }
   ],
   "source": [
    "df.shape"
   ]
  },
  {
   "cell_type": "code",
   "execution_count": 26,
   "metadata": {
    "hidden": true
   },
   "outputs": [
    {
     "name": "stdout",
     "output_type": "stream",
     "text": [
      "<class 'pandas.core.frame.DataFrame'>\n",
      "Int64Index: 306534 entries, 0 to 306533\n",
      "Data columns (total 22 columns):\n",
      " #   Column         Non-Null Count   Dtype         \n",
      "---  ------         --------------   -----         \n",
      " 0   customer_id    306534 non-null  object        \n",
      " 1   event          306534 non-null  object        \n",
      " 2   time           306534 non-null  int64         \n",
      " 3   offer_id       167581 non-null  object        \n",
      " 4   reward         33579 non-null   float64       \n",
      " 5   amount         138953 non-null  float64       \n",
      " 6   gender         272762 non-null  object        \n",
      " 7   age            306534 non-null  object        \n",
      " 8   income         272762 non-null  float64       \n",
      " 9   age_group      306534 non-null  category      \n",
      " 10  income_group   306534 non-null  category      \n",
      " 11  became_date    306534 non-null  datetime64[ns]\n",
      " 12  year           306534 non-null  int64         \n",
      " 13  reward_amount  167581 non-null  float64       \n",
      " 14  difficulty     167581 non-null  float64       \n",
      " 15  duration       167581 non-null  float64       \n",
      " 16  offer_type     167581 non-null  object        \n",
      " 17  offer_number   167581 non-null  object        \n",
      " 18  email          167581 non-null  float64       \n",
      " 19  mobile         167581 non-null  float64       \n",
      " 20  social         167581 non-null  float64       \n",
      " 21  web            167581 non-null  float64       \n",
      "dtypes: category(2), datetime64[ns](1), float64(10), int64(2), object(7)\n",
      "memory usage: 49.7+ MB\n"
     ]
    }
   ],
   "source": [
    "df.info()"
   ]
  },
  {
   "cell_type": "markdown",
   "metadata": {},
   "source": [
    "## Data Exploration with visualization"
   ]
  },
  {
   "cell_type": "markdown",
   "metadata": {},
   "source": [
    "In this section, we will create graphs to see the patterns and find meaningful information from them. "
   ]
  },
  {
   "cell_type": "code",
   "execution_count": 28,
   "metadata": {},
   "outputs": [],
   "source": [
    "# formats\n",
    "background_color = '#018571' # dark green\n",
    "c_white = '#f5f5f5'\n",
    "c_green = '#5ab4ac' # green\n",
    "c_light_b = '#d8b365' # red\n",
    "c_dark_b = '#a6611a'\n",
    "\n",
    "plt.rcParams['text.color'] = c_white\n",
    "plt.rcParams['axes.labelcolor'] = c_white\n",
    "plt.rcParams['xtick.color'] = c_white\n",
    "plt.rcParams['ytick.color'] = c_white\n",
    "plt.rcParams['font.family'] = 'monospace'\n",
    "\n",
    "# No scientific notations (https://stackoverflow.com/questions/21137150/\n",
    "# format-suppress-scientific-notation-from-python-pandas-aggregation-results)\n",
    "pd.options.display.float_format = '{:.2f}'.format\n",
    "\n",
    "# Number with comma separation\n",
    "pd.options.display.float_format = '{:,}'.format\n",
    "\n",
    "from matplotlib.offsetbox import AnnotationBbox, OffsetImage\n",
    "def offset_png(x, y, path, ax, zoom, offset):\n",
    "    \"\"\"Function to add .png images to the graph.\n",
    "    source: https://stackoverflow.com/questions/61971090/how-can-i-add-images-to-bars-in-axes-matplotlib\n",
    "    \"\"\"\n",
    "    img = plt.imread(path)\n",
    "    im = OffsetImage(img, zoom=zoom)\n",
    "    im.image.axes = ax\n",
    "    x_offset = offset\n",
    "    ab = AnnotationBbox(im, (x, y), xybox=(x_offset, 0), frameon=False,\n",
    "                       xycoords='data', boxcoords='offset points', pad=0)\n",
    "    ax.add_artist(ab)"
   ]
  },
  {
   "cell_type": "code",
   "execution_count": 29,
   "metadata": {},
   "outputs": [
    {
     "data": {
      "image/png": "[encoded data removed]",
      "text/plain": [
       "<Figure size 900x300 with 1 Axes>"
      ]
     },
     "metadata": {},
     "output_type": "display_data"
    }
   ],
   "source": [
    "fig = plt.figure(figsize=(6,2), dpi=150,\n",
    "                facecolor=background_color)\n",
    "gs = fig.add_gridspec(1,1)\n",
    "gs.update(wspace=0, hspace=0)\n",
    "ax0 = fig.add_subplot(gs[0,0])\n",
    "ax0.set_facecolor(background_color)\n",
    "\n",
    "for s in ['right', 'top', 'bottom', 'left']:\n",
    "    ax0.spines[s].set_visible(False)\n",
    "    \n",
    "for s in ['left', 'bottom']:\n",
    "    ax0.spines[s].set_color(background_color)\n",
    "    \n",
    "ax0.tick_params(axis='both', which='both', left=False, bottom=False)\n",
    "ax0.axes.get_xaxis().set_visible(False)\n",
    "ax0.axes.get_yaxis().set_visible(False)\n",
    "\n",
    "ax0.text(0.5, 0.8, \"Coffee\", fontsize=40, color=c_white, ha='center')\n",
    "\n",
    "ax0.text(0.5, 0.5, \"Coffee is your friend\\nAre you willing to get one?\", ha='center')\n",
    "\n",
    "# picture\n",
    "offset_png(x=0.5, y=0.1, path=path/'starbuck_logo.png', ax=ax0, zoom=0.23, offset=0)\n",
    "\n",
    "ax0.text(0.5, -0.45, \"Check the offers in your inbox!\", fontweight='bold', color=c_light_b, ha='center')\n",
    "\n",
    "plt.show()"
   ]
  },
  {
   "cell_type": "markdown",
   "metadata": {},
   "source": [
    "### Gender Distribution\n",
    "\n",
    "We can see that there are three types of genders (male, female, and other). Since other's proportion in gender is negligible, we plot male and female distribtuion here. "
   ]
  },
  {
   "cell_type": "code",
   "execution_count": 30,
   "metadata": {},
   "outputs": [
    {
     "data": {
      "image/png": "[encoded data removed]",
      "text/plain": [
       "<Figure size 468x180 with 1 Axes>"
      ]
     },
     "metadata": {},
     "output_type": "display_data"
    }
   ],
   "source": [
    "x = df.groupby('gender')['gender'].count()\n",
    "y = len(df)\n",
    "r = ((x/y)).round(2)\n",
    "\n",
    "mf_ratio = pd.DataFrame(r).T\n",
    "# Since \"other\" has only 0.1 ratio, I did not show in the graph\n",
    "#ax.barh(gender_ratio.index, gender_ratio['O'],\n",
    "#       color=background_color, alpha=0.9, label='Other')\n",
    "\n",
    "#ratio.drop('O', axis=1, inplace=True)\n",
    "\n",
    "fig, ax = plt.subplots(1,1,figsize=(6.5, 2.5))\n",
    "\n",
    "ax.barh(mf_ratio.index, mf_ratio['M'], \n",
    "        color='#244747', alpha=0.7, label='Male')\n",
    "ax.barh(mf_ratio.index, mf_ratio['F'], left=mf_ratio['M'], \n",
    "        color='#91b8bd', alpha=0.7, label='Female')\n",
    "\n",
    "ax.set_xlim(0, 1)\n",
    "ax.set_xticks([])\n",
    "ax.set_yticks([])\n",
    "\n",
    "# male percentage\n",
    "for i in mf_ratio.index:\n",
    "    ax.annotate(f\"{int(mf_ratio['M'][i]*100)}%\", \n",
    "                   xy=(mf_ratio['M'][i]/2, i),\n",
    "                   va = 'center', ha='center',fontsize=60, fontweight='light', \n",
    "                   fontfamily='serif', color='white')\n",
    "\n",
    "    ax.annotate(\"Male\", \n",
    "                   xy=(mf_ratio['M'][i]/2, -0.25),\n",
    "                   va = 'center', ha='center',fontsize=12, fontweight='light', \n",
    "                   fontfamily='serif', color='white')\n",
    "\n",
    "for i in mf_ratio.index:\n",
    "    ax.annotate(f\"{int(mf_ratio['F'][i]*100)}%\", \n",
    "                   xy=(mf_ratio['M'][i]+mf_ratio['F'][i]/2, i),\n",
    "                   va = 'center', ha='center',fontsize=60, fontweight='light', \n",
    "                   fontfamily='serif', color='#244747')\n",
    "    ax.annotate(\"Female\", \n",
    "                   xy=(mf_ratio['M'][i]+mf_ratio['F'][i]/2, -0.25),\n",
    "                   va = 'center', ha='center',fontsize=12, fontweight='light', \n",
    "                   fontfamily='serif', color='#244747')\n",
    "\n",
    "\n",
    "# Title & Subtitle\n",
    "fig.text(0.125,1.10,'Male & Female distribution', color='black',\n",
    "         fontfamily='monospace',fontsize=15, fontweight='bold')\n",
    "fig.text(0.125,0.98,'We can see males use the starbucks app more than females in the dataset.',\n",
    "         color='black', fontfamily='monospace',fontsize=12)  \n",
    "fig.text(0.125,0.89, 'There are 1% of other gender in customers.',\n",
    "        color='black', fontfamily='monospace', fontsize=12)\n",
    "\n",
    "for s in ['top', 'left', 'right', 'bottom']:\n",
    "    ax.spines[s].set_visible(False)\n",
    "    \n",
    "\n",
    "\n",
    "#ax.legend(loc='lower center', ncol=3, bbox_to_anchor=(0.5, -0.06))\n",
    "\n",
    "# Removing legend due to labelled plot\n",
    "ax.legend().set_visible(False)\n",
    "plt.show()"
   ]
  },
  {
   "cell_type": "markdown",
   "metadata": {},
   "source": [
    "### Age Distribution"
   ]
  },
  {
   "cell_type": "markdown",
   "metadata": {},
   "source": [
    "We created a plot for age group and we can see the age distribution in dataset\n"
   ]
  },
  {
   "cell_type": "code",
   "execution_count": 31,
   "metadata": {},
   "outputs": [],
   "source": [
    "plt.rcParams['text.color'] = \"#018571\"\n",
    "plt.rcParams['axes.labelcolor'] = 'black'\n",
    "plt.rcParams['xtick.color'] = 'black'\n",
    "plt.rcParams['ytick.color'] = 'black'\n",
    "plt.rcParams['font.family'] = 'monospace'"
   ]
  },
  {
   "cell_type": "code",
   "execution_count": 32,
   "metadata": {},
   "outputs": [
    {
     "data": {
      "image/png": "[encoded data removed]",
      "text/plain": [
       "<Figure size 864x432 with 1 Axes>"
      ]
     },
     "metadata": {
      "needs_background": "light"
     },
     "output_type": "display_data"
    }
   ],
   "source": [
    "# order for plotting categorical vars\n",
    "age_order = ['10s','20s','30s', '40s', '50s', '60s', '70s', '80s', '90s', '100s', 'unknown']\n",
    "\n",
    "data = df['age_group'].value_counts()[age_order]\n",
    "\n",
    "color_map = ['#d4dddd' for _ in range(11)]\n",
    "color_map[4] = color_map[5] = '#018571' # high amount of age groups\n",
    "color_map[0] = color_map[8] = color_map[9] = '#a6611a' # low amount of age groups\n",
    "\n",
    "fig, ax = plt.subplots(1,1, figsize=(12,6))\n",
    "ax.bar(data.index, data, width=0.5,\n",
    "      edgecolor='darkgray', \n",
    "      linewidth=0.6, color=color_map)\n",
    "\n",
    "# annotations\n",
    "for i in data.index:\n",
    "    ax.annotate(f\"{data[i]}\",\n",
    "               xy=(i, data[i]*1.03), va='center', ha='center',\n",
    "               fontweight='light', fontfamily='serif', color='black')\n",
    "\n",
    "for s in ['top', 'left', 'right']:\n",
    "    ax.spines[s].set_visible(False)\n",
    "    \n",
    "ax.set_xticklabels(data.index, fontfamily='serif', rotation=0, color='black');\n",
    "ax.grid(axis='y', linestyle='-', alpha=0.4)\n",
    "ax.set_axisbelow(True)\n",
    "\n",
    "\n",
    "# Title and observations\n",
    "fig.text(0.09, 1.08, 'Distribution by Age Group', fontsize=20, fontweight='bold', fontfamily='serif')\n",
    "fig.text(0.09, 1, \"- 50's age group has the highest number of customers and 40's age group is awxons highest group.\",\n",
    "        fontsize=15, fontfamily='serif', color='black')\n",
    "fig.text(0.09, 0.94, \"- 10's, 90's and 100's groups have the lowest number of customers.\",\n",
    "        fontsize=15, fontfamily='serif', color='black')\n",
    "\n",
    "\n",
    "# Axis labels\n",
    "plt.xlabel('Age Group', fontsize=12, fontweight='light', fontfamily='serif')\n",
    "\n",
    "# thicken the bottom line\n",
    "plt.axhline(y = 0, color='black', linewidth=1.3, alpha=0.7);\n"
   ]
  },
  {
   "cell_type": "markdown",
   "metadata": {},
   "source": [
    "### Income Distribution"
   ]
  },
  {
   "cell_type": "markdown",
   "metadata": {},
   "source": [
    "The dataset has income information for customers, so we made income groups and see the income distribution of customers. \n"
   ]
  },
  {
   "cell_type": "code",
   "execution_count": 33,
   "metadata": {},
   "outputs": [
    {
     "data": {
      "image/png": "[encoded data removed]",
      "text/plain": [
       "<Figure size 864x432 with 1 Axes>"
      ]
     },
     "metadata": {
      "needs_background": "light"
     },
     "output_type": "display_data"
    }
   ],
   "source": [
    "# order for plotting categorical vars\n",
    "income_order = ['30K', '40K', '50K', '60K', '70K', '80K', '90K', '100K', '110K', '120K','unknown']\n",
    "data_income = df['income_group'].value_counts()[income_order]\n",
    "\n",
    "\n",
    "# create color map to match offer type graph and offer number graph \n",
    "# to represent each type. \n",
    "color_map = ['#d4dddd' for _ in range(12)]\n",
    "color_map[2] = color_map[3] = color_map[4] = '#018571' # Top 3 income range\n",
    "\n",
    "\n",
    "\n",
    "fig, ax = plt.subplots(1,1, figsize=(12,6))\n",
    "ax.bar(data_income.index, data_income, width=0.5,\n",
    "      edgecolor='darkgray', \n",
    "      linewidth=0.6, color=color_map)\n",
    "\n",
    "# annotations\n",
    "for i in data_income.index:\n",
    "    ax.annotate(f\"{data_income[i]}\",\n",
    "               xy=(i, data_income[i]*1.03), va='center', ha='center',\n",
    "               fontweight='light', fontfamily='serif', color='black')\n",
    "\n",
    "for s in ['top', 'left', 'right']:\n",
    "    ax.spines[s].set_visible(False)\n",
    "    \n",
    "ax.set_xticklabels(data_income.index, fontfamily='serif', rotation=0, color='black');\n",
    "ax.grid(axis='y', linestyle='-', alpha=0.4)\n",
    "ax.set_axisbelow(True)\n",
    "\n",
    "\n",
    "# Title and observations\n",
    "fig.text(0.09, 1.08, \"Distribution by Customers' Income\", fontsize=20, fontweight='bold', fontfamily='serif')\n",
    "fig.text(0.09, 1, \"- 50K group is the highest number of customers' income group.\",\n",
    "        fontsize=15, fontfamily='serif', color='black')\n",
    "fig.text(0.09, 0.94, \"- 60K and 70K groups are second and third highest groups.\",\n",
    "        fontsize=15, fontfamily='serif', color='black')\n",
    "\n",
    "\n",
    "# Axis labels\n",
    "plt.xlabel(\"Customers' Income\", fontsize=12, fontweight='light', fontfamily='serif')\n",
    "\n",
    "# thicken the bottom line\n",
    "plt.axhline(y = 0, color='black', linewidth=1.3, alpha=0.7);\n",
    "\n",
    "\n"
   ]
  },
  {
   "cell_type": "markdown",
   "metadata": {},
   "source": [
    "### What types of offer??\n",
    "\n",
    "\n",
    "There are three types of offers, BOGO (buy-one-get-one), discount, and informational. We can see that customers have gotten both BOGO and discounts offers more than informational offer. "
   ]
  },
  {
   "cell_type": "code",
   "execution_count": 34,
   "metadata": {},
   "outputs": [
    {
     "data": {
      "image/png": "[encoded data removed]",
      "text/plain": [
       "<Figure size 864x432 with 1 Axes>"
      ]
     },
     "metadata": {
      "needs_background": "light"
     },
     "output_type": "display_data"
    }
   ],
   "source": [
    "# order for plotting categorical vars\n",
    "type_order = ['bogo', 'discount', 'informational']\n",
    "data_type = df['offer_type'].value_counts()[type_order]\n",
    "\n",
    "\n",
    "# create color map to match offer type graph and offer number graph \n",
    "# to represent each type. \n",
    "color_map = ['#d4dddd' for _ in range(3)]\n",
    "color_map[0] = '#018571' # bogo\n",
    "color_map[1] = '#a6611a' # discount\n",
    "\n",
    "\n",
    "fig, ax = plt.subplots(1,1, figsize=(12,6))\n",
    "ax.bar(data_type.index, data_type, width=0.5,\n",
    "      edgecolor='darkgray', \n",
    "      linewidth=0.6, color=color_map)\n",
    "\n",
    "# annotations\n",
    "for i in data_type.index:\n",
    "    ax.annotate(f\"{data_type[i]}\",\n",
    "               xy=(i, data_type[i]*1.03), va='center', ha='center',\n",
    "               fontweight='light', fontfamily='serif', color='black')\n",
    "\n",
    "for s in ['top', 'left', 'right']:\n",
    "    ax.spines[s].set_visible(False)\n",
    "    \n",
    "ax.set_xticklabels(data_type.index, fontfamily='serif', rotation=0, color='black');\n",
    "ax.grid(axis='y', linestyle='-', alpha=0.4)\n",
    "ax.set_axisbelow(True)\n",
    "\n",
    "\n",
    "# Title and observations\n",
    "fig.text(0.09, 1.08, 'Distribution by Offer types', fontsize=20, fontweight='bold', fontfamily='serif')\n",
    "fig.text(0.09, 1, \"- Customers have given a large number of bogo (buy-one-get-one) and discount offers.\",\n",
    "        fontsize=15, fontfamily='serif', color='black')\n",
    "fig.text(0.09, 0.94, \"- Informational offer has lowest amount, and it did not provide any rewards compared to other offers.\",\n",
    "        fontsize=15, fontfamily='serif', color='black')\n",
    "\n",
    "\n",
    "# Axis labels\n",
    "plt.xlabel('Offer types', fontsize=12, fontweight='light', fontfamily='serif')\n",
    "\n",
    "# thicken the bottom line\n",
    "plt.axhline(y = 0, color='black', linewidth=1.3, alpha=0.7);\n",
    "\n"
   ]
  },
  {
   "cell_type": "markdown",
   "metadata": {},
   "source": [
    "The plot below showed the distribuion of offer numbers.\n",
    "\n",
    "- BOGO: offer_0, offer_1, offer_3, offer_8\n",
    "- Discount: offer_4, offer_5, offer_6, offer_9\n",
    "- Informational: offer_2, offer_7"
   ]
  },
  {
   "cell_type": "code",
   "execution_count": 35,
   "metadata": {},
   "outputs": [
    {
     "data": {
      "image/png": "[encoded data removed]",
      "text/plain": [
       "<Figure size 864x432 with 1 Axes>"
      ]
     },
     "metadata": {
      "needs_background": "light"
     },
     "output_type": "display_data"
    }
   ],
   "source": [
    "## offer_number\n",
    "# order for plotting categorical vars\n",
    "dic = {'offer_0': 'bogo',\n",
    "'offer_1': 'bogo',\n",
    "'offer_2': 'informational',\n",
    "'offer_3': 'bogo',\n",
    "'offer_4': 'discount',\n",
    "'offer_5': 'discount',\n",
    "'offer_6': 'discount',\n",
    "'offer_7': 'informational',\n",
    "'offer_8': 'bogo',\n",
    "'offer_9': 'discount'}\n",
    "offer_order = ['offer_0', 'offer_1', 'offer_3', 'offer_8', 'offer_4', 'offer_5', 'offer_6', 'offer_9', 'offer_2', 'offer_7',]\n",
    "data_offer = df['offer_number'].value_counts()[offer_order]\n",
    "\n",
    "color_map = ['#d4dddd' for _ in range(10)]\n",
    "color_map[0] = color_map[1] = color_map[2] = color_map[4] = color_map[7] = color_map[5] ='#d4dddd' # bogo\n",
    "color_map[3] = '#018571' # bogo\n",
    "color_map[6] =  '#a6611a' # discount\n",
    "color_map[9] = '#221f1f' # Informational\n",
    "\n",
    "# base\n",
    "\n",
    "fig, ax = plt.subplots(1,1, figsize=(12,6))\n",
    "ax.bar(data_offer.index, data_offer, width=0.5,\n",
    "      edgecolor='darkgray', \n",
    "      linewidth=0.6, color=color_map)\n",
    "\n",
    "# annotations\n",
    "for i in data_offer.index:\n",
    "    ax.annotate(f\"{data_offer[i]}\",\n",
    "               xy=(i, data_offer[i]+3), va='center', ha='center',\n",
    "               fontweight='light', fontfamily='serif', color='black')\n",
    "\n",
    "for s in ['top', 'left', 'right']:\n",
    "    ax.spines[s].set_visible(False)\n",
    "    \n",
    "ax.set_xticklabels(data_offer.index, fontfamily='serif', rotation=0, color='black');\n",
    "ax.grid(axis='y', linestyle='-', alpha=0.4)\n",
    "ax.set_axisbelow(True)\n",
    "\n",
    "\n",
    "ax.annotate(\"BOGO(buy-one-get-one)\", \n",
    "            xy=(1.45, 19800), fontsize=12,\n",
    "            va = 'center', ha='center',\n",
    "            color='white', fontweight='bold',\n",
    "            bbox=dict(boxstyle='round', pad=0.4, facecolor='#018571', linewidth=0))\n",
    "\n",
    "ax.annotate(\"Discount\", \n",
    "            xy=(5.5, 21200), fontsize=12,\n",
    "            va = 'center', ha='center',\n",
    "            color='white', fontweight='bold',\n",
    "            bbox=dict(boxstyle='round', pad=0.4, facecolor='#a6611a', linewidth=0))\n",
    "\n",
    "ax.annotate(\"Informational\", \n",
    "            xy=(8.55, 15900), fontsize=12,\n",
    "            va = 'center', ha='center',\n",
    "            color='white', fontweight='bold',\n",
    "            bbox=dict(boxstyle='round', pad=0.4, facecolor='#221f1f', linewidth=0))\n",
    "\n",
    "# Axis labels\n",
    "plt.xlabel('Offer Numbers', fontsize=12, fontweight='light', fontfamily='serif')\n",
    "\n",
    "# thicken the bottom line\n",
    "plt.axhline(y = 0, color='black', linewidth=1.3, alpha=0.7);\n",
    "\n",
    "\n",
    "# Title and observations\n",
    "fig.text(0.09, 1.30, 'Distribution by Offer Numbers', fontsize=20, fontweight='bold', fontfamily='serif')\n",
    "fig.text(0.09, 1.15, \"- Among BOGO offers, offer_8 has the highest numbers, and it was distributed \\nby all methods (email, mobile, social and web).\",\n",
    "        fontsize=15, fontfamily='serif', color='black');\n",
    "fig.text(0.09, 1.05, \"- For Discount offers, offer_6 has the highest numbers, but also offer_5 has \\nsecond highest. \",\n",
    "        fontsize=15, fontfamily='serif', color='black');\n",
    "fig.text(0.09, 0.98, \"- For Informational offers, offer_7 has the highest one that customers frequently have given.\",\n",
    "        fontsize=15, fontfamily='serif', color='black');"
   ]
  },
  {
   "cell_type": "markdown",
   "metadata": {},
   "source": [
    "## Recommendation model\n",
    "\n",
    "The main goal of this project is to build a recommendation model which can recommend starbucks which type of offers they need to provide their customers. \n",
    "\n",
    "We focused on the customers' purchasing paths from receiving an offer to using it (completed to buy products). There are four steps on `event`:\n",
    "\n",
    "1. __offer received__: a customer got the offer, and it contains __offer id__\n",
    "2. __offer viewed__: a customer viewed the offer, and it contains __offer id__\n",
    "3. __offer completed__: a customer used (completed) the offer, and it contains __offer id__ and __reward received__\n",
    "4. __transaction__: transaction occurred, and it contains __transaction amount__\n",
    "\n",
    "\n"
   ]
  },
  {
   "cell_type": "markdown",
   "metadata": {},
   "source": [
    "### Data Feature Engineering\n",
    "\n",
    "The first thing we need to do is to create a dataframe that have offer information. "
   ]
  },
  {
   "cell_type": "markdown",
   "metadata": {},
   "source": [
    "#### Calculate total amount spent\n",
    "\n",
    "Compute total amount spent by customers and create a column representing of it."
   ]
  },
  {
   "cell_type": "code",
   "execution_count": 27,
   "metadata": {},
   "outputs": [],
   "source": [
    "# create a dataframe that does not have 'transaction' info\n",
    "df_offer = df[df['event'] != 'transaction'].drop(['amount'], axis=1)\n",
    "\n",
    "# create dummy columns for event\n",
    "df_offer = pd.concat([df_offer, pd.get_dummies(df_offer['event'])], axis=1)\n",
    "\n",
    "# create a dataframe that has only transaction infro and compute the total spent amount\n",
    "df_transaction = df[df['event'] == 'transaction'].groupby('customer_id').agg({'amount':'sum'}).reset_index()\n",
    "\n",
    "# Merge profile and df_transactions\n",
    "df_profile = profile.merge(df_transaction, how='left', on='customer_id')\n",
    "\n",
    "# Fill nan values with 0\n",
    "df_profile['amount'] = df_profile['amount'].fillna(0)\n",
    "\n",
    "# rename 'amount' to 'total_spent_amount'\n",
    "df_profile.rename(columns={'amount': 'total_spent_amount'}, inplace=True)"
   ]
  },
  {
   "cell_type": "code",
   "execution_count": 28,
   "metadata": {},
   "outputs": [
    {
     "data": {
      "text/html": [
       "<div>\n",
       "<style scoped>\n",
       "    .dataframe tbody tr th:only-of-type {\n",
       "        vertical-align: middle;\n",
       "    }\n",
       "\n",
       "    .dataframe tbody tr th {\n",
       "        vertical-align: top;\n",
       "    }\n",
       "\n",
       "    .dataframe thead th {\n",
       "        text-align: right;\n",
       "    }\n",
       "</style>\n",
       "<table border=\"1\" class=\"dataframe\">\n",
       "  <thead>\n",
       "    <tr style=\"text-align: right;\">\n",
       "      <th></th>\n",
       "      <th>gender</th>\n",
       "      <th>age</th>\n",
       "      <th>customer_id</th>\n",
       "      <th>income</th>\n",
       "      <th>age_group</th>\n",
       "      <th>income_group</th>\n",
       "      <th>became_date</th>\n",
       "      <th>year</th>\n",
       "      <th>total_spent_amount</th>\n",
       "    </tr>\n",
       "  </thead>\n",
       "  <tbody>\n",
       "    <tr>\n",
       "      <th>0</th>\n",
       "      <td>None</td>\n",
       "      <td>NaN</td>\n",
       "      <td>68be06ca386d4c31939f3a4f0e3dd783</td>\n",
       "      <td>NaN</td>\n",
       "      <td>unknown</td>\n",
       "      <td>unknown</td>\n",
       "      <td>2017-02-12</td>\n",
       "      <td>2017</td>\n",
       "      <td>20.40</td>\n",
       "    </tr>\n",
       "    <tr>\n",
       "      <th>1</th>\n",
       "      <td>F</td>\n",
       "      <td>55</td>\n",
       "      <td>0610b486422d4921ae7d2bf64640c50b</td>\n",
       "      <td>112000.0</td>\n",
       "      <td>50s</td>\n",
       "      <td>110K</td>\n",
       "      <td>2017-07-15</td>\n",
       "      <td>2017</td>\n",
       "      <td>77.01</td>\n",
       "    </tr>\n",
       "  </tbody>\n",
       "</table>\n",
       "</div>"
      ],
      "text/plain": [
       "  gender  age                       customer_id    income age_group  \\\n",
       "0   None  NaN  68be06ca386d4c31939f3a4f0e3dd783       NaN   unknown   \n",
       "1      F   55  0610b486422d4921ae7d2bf64640c50b  112000.0       50s   \n",
       "\n",
       "  income_group became_date  year  total_spent_amount  \n",
       "0      unknown  2017-02-12  2017               20.40  \n",
       "1         110K  2017-07-15  2017               77.01  "
      ]
     },
     "execution_count": 28,
     "metadata": {},
     "output_type": "execute_result"
    }
   ],
   "source": [
    "df_profile.head(2)"
   ]
  },
  {
   "cell_type": "code",
   "execution_count": 29,
   "metadata": {},
   "outputs": [
    {
     "data": {
      "text/html": [
       "<div>\n",
       "<style scoped>\n",
       "    .dataframe tbody tr th:only-of-type {\n",
       "        vertical-align: middle;\n",
       "    }\n",
       "\n",
       "    .dataframe tbody tr th {\n",
       "        vertical-align: top;\n",
       "    }\n",
       "\n",
       "    .dataframe thead th {\n",
       "        text-align: right;\n",
       "    }\n",
       "</style>\n",
       "<table border=\"1\" class=\"dataframe\">\n",
       "  <thead>\n",
       "    <tr style=\"text-align: right;\">\n",
       "      <th></th>\n",
       "      <th>customer_id</th>\n",
       "      <th>event</th>\n",
       "      <th>time</th>\n",
       "      <th>offer_id</th>\n",
       "      <th>reward</th>\n",
       "      <th>gender</th>\n",
       "      <th>age</th>\n",
       "      <th>income</th>\n",
       "      <th>age_group</th>\n",
       "      <th>income_group</th>\n",
       "      <th>became_date</th>\n",
       "      <th>year</th>\n",
       "      <th>reward_amount</th>\n",
       "      <th>difficulty</th>\n",
       "      <th>duration</th>\n",
       "      <th>offer_type</th>\n",
       "      <th>offer_number</th>\n",
       "      <th>email</th>\n",
       "      <th>mobile</th>\n",
       "      <th>social</th>\n",
       "      <th>web</th>\n",
       "      <th>offer completed</th>\n",
       "      <th>offer received</th>\n",
       "      <th>offer viewed</th>\n",
       "    </tr>\n",
       "  </thead>\n",
       "  <tbody>\n",
       "    <tr>\n",
       "      <th>0</th>\n",
       "      <td>78afa995795e4d85b5d9ceeca43f5fef</td>\n",
       "      <td>offer received</td>\n",
       "      <td>0</td>\n",
       "      <td>9b98b8c7a33c4b65b9aebfe6a799e6d9</td>\n",
       "      <td>NaN</td>\n",
       "      <td>F</td>\n",
       "      <td>75</td>\n",
       "      <td>100000.0</td>\n",
       "      <td>70s</td>\n",
       "      <td>100K</td>\n",
       "      <td>2017-05-09</td>\n",
       "      <td>2017</td>\n",
       "      <td>5.0</td>\n",
       "      <td>5.0</td>\n",
       "      <td>7.0</td>\n",
       "      <td>bogo</td>\n",
       "      <td>offer_3</td>\n",
       "      <td>1.0</td>\n",
       "      <td>1.0</td>\n",
       "      <td>0.0</td>\n",
       "      <td>1.0</td>\n",
       "      <td>0</td>\n",
       "      <td>1</td>\n",
       "      <td>0</td>\n",
       "    </tr>\n",
       "    <tr>\n",
       "      <th>1</th>\n",
       "      <td>a03223e636434f42ac4c3df47e8bac43</td>\n",
       "      <td>offer received</td>\n",
       "      <td>0</td>\n",
       "      <td>0b1e1539f2cc45b7b9fa7c272da2e1d7</td>\n",
       "      <td>NaN</td>\n",
       "      <td>None</td>\n",
       "      <td>NaN</td>\n",
       "      <td>NaN</td>\n",
       "      <td>unknown</td>\n",
       "      <td>unknown</td>\n",
       "      <td>2017-08-04</td>\n",
       "      <td>2017</td>\n",
       "      <td>5.0</td>\n",
       "      <td>20.0</td>\n",
       "      <td>10.0</td>\n",
       "      <td>discount</td>\n",
       "      <td>offer_4</td>\n",
       "      <td>1.0</td>\n",
       "      <td>0.0</td>\n",
       "      <td>0.0</td>\n",
       "      <td>1.0</td>\n",
       "      <td>0</td>\n",
       "      <td>1</td>\n",
       "      <td>0</td>\n",
       "    </tr>\n",
       "  </tbody>\n",
       "</table>\n",
       "</div>"
      ],
      "text/plain": [
       "                        customer_id           event  time  \\\n",
       "0  78afa995795e4d85b5d9ceeca43f5fef  offer received     0   \n",
       "1  a03223e636434f42ac4c3df47e8bac43  offer received     0   \n",
       "\n",
       "                           offer_id  reward gender  age    income age_group  \\\n",
       "0  9b98b8c7a33c4b65b9aebfe6a799e6d9     NaN      F   75  100000.0       70s   \n",
       "1  0b1e1539f2cc45b7b9fa7c272da2e1d7     NaN   None  NaN       NaN   unknown   \n",
       "\n",
       "  income_group became_date  year  reward_amount  difficulty  duration  \\\n",
       "0         100K  2017-05-09  2017            5.0         5.0       7.0   \n",
       "1      unknown  2017-08-04  2017            5.0        20.0      10.0   \n",
       "\n",
       "  offer_type offer_number  email  mobile  social  web  offer completed  \\\n",
       "0       bogo      offer_3    1.0     1.0     0.0  1.0                0   \n",
       "1   discount      offer_4    1.0     0.0     0.0  1.0                0   \n",
       "\n",
       "   offer received  offer viewed  \n",
       "0               1             0  \n",
       "1               1             0  "
      ]
     },
     "execution_count": 29,
     "metadata": {},
     "output_type": "execute_result"
    }
   ],
   "source": [
    "df_offer.head(2)"
   ]
  },
  {
   "cell_type": "code",
   "execution_count": 30,
   "metadata": {},
   "outputs": [
    {
     "name": "stdout",
     "output_type": "stream",
     "text": [
      "Number of received: 76277\n",
      "Number of viewed: 57725\n",
      "Number of completed: 33579\n",
      " \n",
      "Average score: 0.5193636351718081\n",
      "Percentage of offer viewed 0.76\n",
      "Percentage of offer completed 0.44\n"
     ]
    }
   ],
   "source": [
    "# see the percentage of offers received that customers also viewed the offers and completed to purchase. \n",
    "num_received = df[df['event'] == 'offer received'].shape[0]\n",
    "num_viewed = df[df['event'] == 'offer viewed'].shape[0]\n",
    "num_completed = df[df['event'] == 'offer completed'].shape[0]\n",
    "\n",
    "avg = (num_viewed + 3 * num_completed) / (num_received * 4)\n",
    "print(\"Number of received:\", num_received)\n",
    "print(\"Number of viewed:\", num_viewed)\n",
    "print(\"Number of completed:\", num_completed)\n",
    "print(\" \")\n",
    "print(\"Average score:\", avg)\n",
    "print('Percentage of offer viewed', np.round(num_viewed/num_received, decimals=2))\n",
    "print('Percentage of offer completed', np.round(num_completed/num_received, decimals=2))"
   ]
  },
  {
   "cell_type": "markdown",
   "metadata": {},
   "source": [
    "#### Compute PB score\n",
    "\n",
    "Given the `event` information, we can compute purchasing behavior (PB) matrix. The matrix is computed below:\n",
    "\n",
    "$$PB_{viewed} = \\frac{10 * (\\text{n_received}+(3 * \\text{n_viewed}) + (5 * \\text{n_completed}))}{9 * \\text{n_received}}$$\n",
    "\n",
    "\n",
    "\n",
    "For some cases where customers purchased products without viewing the offer, PB is computed:\n",
    "\n",
    "\n",
    "\n",
    "$$PB_{NOTviewed} = \\frac{10 * (\\text{n_received} + (8 * \\text{n_viewed})}{9 * \\text{n_received}}$$"
   ]
  },
  {
   "cell_type": "code",
   "execution_count": 31,
   "metadata": {},
   "outputs": [
    {
     "data": {
      "text/html": [
       "<div>\n",
       "<style scoped>\n",
       "    .dataframe tbody tr th:only-of-type {\n",
       "        vertical-align: middle;\n",
       "    }\n",
       "\n",
       "    .dataframe tbody tr th {\n",
       "        vertical-align: top;\n",
       "    }\n",
       "\n",
       "    .dataframe thead th {\n",
       "        text-align: right;\n",
       "    }\n",
       "</style>\n",
       "<table border=\"1\" class=\"dataframe\">\n",
       "  <thead>\n",
       "    <tr style=\"text-align: right;\">\n",
       "      <th></th>\n",
       "      <th></th>\n",
       "      <th>offer received</th>\n",
       "      <th>offer viewed</th>\n",
       "      <th>offer completed</th>\n",
       "    </tr>\n",
       "    <tr>\n",
       "      <th>customer_id</th>\n",
       "      <th>offer_number</th>\n",
       "      <th></th>\n",
       "      <th></th>\n",
       "      <th></th>\n",
       "    </tr>\n",
       "  </thead>\n",
       "  <tbody>\n",
       "    <tr>\n",
       "      <th rowspan=\"5\" valign=\"top\">0009655768c64bdeb2e877511632db8f</th>\n",
       "      <th>offer_2</th>\n",
       "      <td>1</td>\n",
       "      <td>1</td>\n",
       "      <td>0</td>\n",
       "    </tr>\n",
       "    <tr>\n",
       "      <th>offer_6</th>\n",
       "      <td>1</td>\n",
       "      <td>1</td>\n",
       "      <td>1</td>\n",
       "    </tr>\n",
       "    <tr>\n",
       "      <th>offer_7</th>\n",
       "      <td>1</td>\n",
       "      <td>1</td>\n",
       "      <td>0</td>\n",
       "    </tr>\n",
       "    <tr>\n",
       "      <th>offer_8</th>\n",
       "      <td>1</td>\n",
       "      <td>1</td>\n",
       "      <td>1</td>\n",
       "    </tr>\n",
       "    <tr>\n",
       "      <th>offer_9</th>\n",
       "      <td>1</td>\n",
       "      <td>0</td>\n",
       "      <td>1</td>\n",
       "    </tr>\n",
       "    <tr>\n",
       "      <th>00116118485d4dfda04fdbaba9a87b5c</th>\n",
       "      <th>offer_8</th>\n",
       "      <td>2</td>\n",
       "      <td>2</td>\n",
       "      <td>0</td>\n",
       "    </tr>\n",
       "    <tr>\n",
       "      <th rowspan=\"4\" valign=\"top\">0011e0d4e6b944f998e987f904e8c1e5</th>\n",
       "      <th>offer_2</th>\n",
       "      <td>1</td>\n",
       "      <td>1</td>\n",
       "      <td>0</td>\n",
       "    </tr>\n",
       "    <tr>\n",
       "      <th>offer_3</th>\n",
       "      <td>1</td>\n",
       "      <td>1</td>\n",
       "      <td>1</td>\n",
       "    </tr>\n",
       "    <tr>\n",
       "      <th>offer_4</th>\n",
       "      <td>1</td>\n",
       "      <td>1</td>\n",
       "      <td>1</td>\n",
       "    </tr>\n",
       "    <tr>\n",
       "      <th>offer_5</th>\n",
       "      <td>1</td>\n",
       "      <td>1</td>\n",
       "      <td>1</td>\n",
       "    </tr>\n",
       "  </tbody>\n",
       "</table>\n",
       "</div>"
      ],
      "text/plain": [
       "                                               offer received  offer viewed  \\\n",
       "customer_id                      offer_number                                 \n",
       "0009655768c64bdeb2e877511632db8f offer_2                    1             1   \n",
       "                                 offer_6                    1             1   \n",
       "                                 offer_7                    1             1   \n",
       "                                 offer_8                    1             1   \n",
       "                                 offer_9                    1             0   \n",
       "00116118485d4dfda04fdbaba9a87b5c offer_8                    2             2   \n",
       "0011e0d4e6b944f998e987f904e8c1e5 offer_2                    1             1   \n",
       "                                 offer_3                    1             1   \n",
       "                                 offer_4                    1             1   \n",
       "                                 offer_5                    1             1   \n",
       "\n",
       "                                               offer completed  \n",
       "customer_id                      offer_number                   \n",
       "0009655768c64bdeb2e877511632db8f offer_2                     0  \n",
       "                                 offer_6                     1  \n",
       "                                 offer_7                     0  \n",
       "                                 offer_8                     1  \n",
       "                                 offer_9                     1  \n",
       "00116118485d4dfda04fdbaba9a87b5c offer_8                     0  \n",
       "0011e0d4e6b944f998e987f904e8c1e5 offer_2                     0  \n",
       "                                 offer_3                     1  \n",
       "                                 offer_4                     1  \n",
       "                                 offer_5                     1  "
      ]
     },
     "execution_count": 31,
     "metadata": {},
     "output_type": "execute_result"
    }
   ],
   "source": [
    "# create a dataframe that have PB scores\n",
    "dct = {'offer received':'sum', 'offer viewed':'sum', 'offer completed':'sum'}\n",
    "df_score = df_offer.groupby(['customer_id', 'offer_number']).agg(dct)\n",
    "\n",
    "df_score.head(10)"
   ]
  },
  {
   "cell_type": "markdown",
   "metadata": {},
   "source": [
    "We need to create a column for PB score for each pair customer - offer in dataframe above"
   ]
  },
  {
   "cell_type": "code",
   "execution_count": 32,
   "metadata": {},
   "outputs": [],
   "source": [
    "def PB_score(n_received, n_viewed, n_completed):\n",
    "    \"\"\"\n",
    "    This function calculate the PB (purchasing behavior) scores.\n",
    "    \n",
    "    INPUT\n",
    "        n_received: (int) index of the offer received column\n",
    "        n_viewed: (int) index of the offer viewed column\n",
    "        n_completed: (int) index of offer completed column\n",
    "    OUTPUT\n",
    "        PB_score: (float) purchasing behavior score\n",
    "    \"\"\"\n",
    "    score = 0\n",
    "    \n",
    "    if n_completed <= n_viewed: \n",
    "        PB_score = 10 * (n_received + 3 * n_viewed + 5 * n_completed) / (9 * n_received)\n",
    "    else:\n",
    "        PB_score = 10 * (n_received + 8 * n_viewed) / (9 * n_received)\n",
    "    return np.round(PB_score, 2)\n",
    "\n",
    "df_score['PB'] = [PB_score(df_score.iloc[i, 0], df_score.iloc[i, 1], df_score.iloc[i, 2]) for i in range(df_score.shape[0])]"
   ]
  },
  {
   "cell_type": "code",
   "execution_count": 33,
   "metadata": {},
   "outputs": [
    {
     "data": {
      "text/html": [
       "<div>\n",
       "<style scoped>\n",
       "    .dataframe tbody tr th:only-of-type {\n",
       "        vertical-align: middle;\n",
       "    }\n",
       "\n",
       "    .dataframe tbody tr th {\n",
       "        vertical-align: top;\n",
       "    }\n",
       "\n",
       "    .dataframe thead th {\n",
       "        text-align: right;\n",
       "    }\n",
       "</style>\n",
       "<table border=\"1\" class=\"dataframe\">\n",
       "  <thead>\n",
       "    <tr style=\"text-align: right;\">\n",
       "      <th></th>\n",
       "      <th></th>\n",
       "      <th>offer received</th>\n",
       "      <th>offer viewed</th>\n",
       "      <th>offer completed</th>\n",
       "      <th>PB</th>\n",
       "    </tr>\n",
       "    <tr>\n",
       "      <th>customer_id</th>\n",
       "      <th>offer_number</th>\n",
       "      <th></th>\n",
       "      <th></th>\n",
       "      <th></th>\n",
       "      <th></th>\n",
       "    </tr>\n",
       "  </thead>\n",
       "  <tbody>\n",
       "    <tr>\n",
       "      <th rowspan=\"5\" valign=\"top\">0009655768c64bdeb2e877511632db8f</th>\n",
       "      <th>offer_2</th>\n",
       "      <td>1</td>\n",
       "      <td>1</td>\n",
       "      <td>0</td>\n",
       "      <td>4.44</td>\n",
       "    </tr>\n",
       "    <tr>\n",
       "      <th>offer_6</th>\n",
       "      <td>1</td>\n",
       "      <td>1</td>\n",
       "      <td>1</td>\n",
       "      <td>10.00</td>\n",
       "    </tr>\n",
       "    <tr>\n",
       "      <th>offer_7</th>\n",
       "      <td>1</td>\n",
       "      <td>1</td>\n",
       "      <td>0</td>\n",
       "      <td>4.44</td>\n",
       "    </tr>\n",
       "    <tr>\n",
       "      <th>offer_8</th>\n",
       "      <td>1</td>\n",
       "      <td>1</td>\n",
       "      <td>1</td>\n",
       "      <td>10.00</td>\n",
       "    </tr>\n",
       "    <tr>\n",
       "      <th>offer_9</th>\n",
       "      <td>1</td>\n",
       "      <td>0</td>\n",
       "      <td>1</td>\n",
       "      <td>1.11</td>\n",
       "    </tr>\n",
       "    <tr>\n",
       "      <th>00116118485d4dfda04fdbaba9a87b5c</th>\n",
       "      <th>offer_8</th>\n",
       "      <td>2</td>\n",
       "      <td>2</td>\n",
       "      <td>0</td>\n",
       "      <td>4.44</td>\n",
       "    </tr>\n",
       "    <tr>\n",
       "      <th rowspan=\"4\" valign=\"top\">0011e0d4e6b944f998e987f904e8c1e5</th>\n",
       "      <th>offer_2</th>\n",
       "      <td>1</td>\n",
       "      <td>1</td>\n",
       "      <td>0</td>\n",
       "      <td>4.44</td>\n",
       "    </tr>\n",
       "    <tr>\n",
       "      <th>offer_3</th>\n",
       "      <td>1</td>\n",
       "      <td>1</td>\n",
       "      <td>1</td>\n",
       "      <td>10.00</td>\n",
       "    </tr>\n",
       "    <tr>\n",
       "      <th>offer_4</th>\n",
       "      <td>1</td>\n",
       "      <td>1</td>\n",
       "      <td>1</td>\n",
       "      <td>10.00</td>\n",
       "    </tr>\n",
       "    <tr>\n",
       "      <th>offer_5</th>\n",
       "      <td>1</td>\n",
       "      <td>1</td>\n",
       "      <td>1</td>\n",
       "      <td>10.00</td>\n",
       "    </tr>\n",
       "  </tbody>\n",
       "</table>\n",
       "</div>"
      ],
      "text/plain": [
       "                                               offer received  offer viewed  \\\n",
       "customer_id                      offer_number                                 \n",
       "0009655768c64bdeb2e877511632db8f offer_2                    1             1   \n",
       "                                 offer_6                    1             1   \n",
       "                                 offer_7                    1             1   \n",
       "                                 offer_8                    1             1   \n",
       "                                 offer_9                    1             0   \n",
       "00116118485d4dfda04fdbaba9a87b5c offer_8                    2             2   \n",
       "0011e0d4e6b944f998e987f904e8c1e5 offer_2                    1             1   \n",
       "                                 offer_3                    1             1   \n",
       "                                 offer_4                    1             1   \n",
       "                                 offer_5                    1             1   \n",
       "\n",
       "                                               offer completed     PB  \n",
       "customer_id                      offer_number                          \n",
       "0009655768c64bdeb2e877511632db8f offer_2                     0   4.44  \n",
       "                                 offer_6                     1  10.00  \n",
       "                                 offer_7                     0   4.44  \n",
       "                                 offer_8                     1  10.00  \n",
       "                                 offer_9                     1   1.11  \n",
       "00116118485d4dfda04fdbaba9a87b5c offer_8                     0   4.44  \n",
       "0011e0d4e6b944f998e987f904e8c1e5 offer_2                     0   4.44  \n",
       "                                 offer_3                     1  10.00  \n",
       "                                 offer_4                     1  10.00  \n",
       "                                 offer_5                     1  10.00  "
      ]
     },
     "execution_count": 33,
     "metadata": {},
     "output_type": "execute_result"
    }
   ],
   "source": [
    "df_score.head(10)"
   ]
  },
  {
   "cell_type": "markdown",
   "metadata": {},
   "source": [
    "#### Create train and test dataset"
   ]
  },
  {
   "cell_type": "code",
   "execution_count": 34,
   "metadata": {},
   "outputs": [
    {
     "name": "stdout",
     "output_type": "stream",
     "text": [
      "training_size: 56959\n",
      "testing_size: 6329\n"
     ]
    }
   ],
   "source": [
    "def split_train_test(df):\n",
    "    \"\"\" \n",
    "    Function to create train and test dataset\n",
    "    \"\"\"\n",
    "    df = df.reset_index()\n",
    "    \n",
    "    total_size = df.shape[0]\n",
    "    \n",
    "    # 90% of the dataset for training data\n",
    "    training_idx = np.random.choice(total_size, int(np.round(total_size * 0.9)), replace=False)\n",
    "    testing_idx = np.setdiff1d(np.arange(0, total_size), training_idx)\n",
    "    \n",
    "    print('training_size:', len(training_idx))\n",
    "    print('testing_size:', len(testing_idx))\n",
    "    \n",
    "    df_train = df.loc[training_idx].groupby(['customer_id', 'offer_number']).max()\n",
    "    df_test = df.loc[testing_idx].groupby(['customer_id', 'offer_number']).max()\n",
    "    \n",
    "    return df_train, df_test\n",
    "    \n",
    "\n",
    "# split the df_score in train and test\n",
    "df_score_train, df_score_test = split_train_test(df_score)"
   ]
  },
  {
   "cell_type": "code",
   "execution_count": 35,
   "metadata": {},
   "outputs": [
    {
     "data": {
      "text/html": [
       "<div>\n",
       "<style scoped>\n",
       "    .dataframe tbody tr th:only-of-type {\n",
       "        vertical-align: middle;\n",
       "    }\n",
       "\n",
       "    .dataframe tbody tr th {\n",
       "        vertical-align: top;\n",
       "    }\n",
       "\n",
       "    .dataframe thead th {\n",
       "        text-align: right;\n",
       "    }\n",
       "</style>\n",
       "<table border=\"1\" class=\"dataframe\">\n",
       "  <thead>\n",
       "    <tr style=\"text-align: right;\">\n",
       "      <th></th>\n",
       "      <th></th>\n",
       "      <th>offer received</th>\n",
       "      <th>offer viewed</th>\n",
       "      <th>offer completed</th>\n",
       "      <th>PB</th>\n",
       "    </tr>\n",
       "    <tr>\n",
       "      <th>customer_id</th>\n",
       "      <th>offer_number</th>\n",
       "      <th></th>\n",
       "      <th></th>\n",
       "      <th></th>\n",
       "      <th></th>\n",
       "    </tr>\n",
       "  </thead>\n",
       "  <tbody>\n",
       "    <tr>\n",
       "      <th rowspan=\"5\" valign=\"top\">0009655768c64bdeb2e877511632db8f</th>\n",
       "      <th>offer_2</th>\n",
       "      <td>1</td>\n",
       "      <td>1</td>\n",
       "      <td>0</td>\n",
       "      <td>4.44</td>\n",
       "    </tr>\n",
       "    <tr>\n",
       "      <th>offer_6</th>\n",
       "      <td>1</td>\n",
       "      <td>1</td>\n",
       "      <td>1</td>\n",
       "      <td>10.00</td>\n",
       "    </tr>\n",
       "    <tr>\n",
       "      <th>offer_7</th>\n",
       "      <td>1</td>\n",
       "      <td>1</td>\n",
       "      <td>0</td>\n",
       "      <td>4.44</td>\n",
       "    </tr>\n",
       "    <tr>\n",
       "      <th>offer_8</th>\n",
       "      <td>1</td>\n",
       "      <td>1</td>\n",
       "      <td>1</td>\n",
       "      <td>10.00</td>\n",
       "    </tr>\n",
       "    <tr>\n",
       "      <th>offer_9</th>\n",
       "      <td>1</td>\n",
       "      <td>0</td>\n",
       "      <td>1</td>\n",
       "      <td>1.11</td>\n",
       "    </tr>\n",
       "  </tbody>\n",
       "</table>\n",
       "</div>"
      ],
      "text/plain": [
       "                                               offer received  offer viewed  \\\n",
       "customer_id                      offer_number                                 \n",
       "0009655768c64bdeb2e877511632db8f offer_2                    1             1   \n",
       "                                 offer_6                    1             1   \n",
       "                                 offer_7                    1             1   \n",
       "                                 offer_8                    1             1   \n",
       "                                 offer_9                    1             0   \n",
       "\n",
       "                                               offer completed     PB  \n",
       "customer_id                      offer_number                          \n",
       "0009655768c64bdeb2e877511632db8f offer_2                     0   4.44  \n",
       "                                 offer_6                     1  10.00  \n",
       "                                 offer_7                     0   4.44  \n",
       "                                 offer_8                     1  10.00  \n",
       "                                 offer_9                     1   1.11  "
      ]
     },
     "execution_count": 35,
     "metadata": {},
     "output_type": "execute_result"
    }
   ],
   "source": [
    "df_score_train.head()"
   ]
  },
  {
   "cell_type": "code",
   "execution_count": 36,
   "metadata": {},
   "outputs": [],
   "source": [
    "def create_matrix(df):\n",
    "    \"\"\" \n",
    "    Function to get the sparse matrix that has customer - offer pairs.\n",
    "    \"\"\"\n",
    "    customer_idx = df.index.get_level_values(0).unique()\n",
    "    offer_idx = df.index.get_level_values(1).sort_values().unique()\n",
    "    \n",
    "    dct_score = {}\n",
    "    \n",
    "    for offer in offer_idx:\n",
    "        lst_score = []\n",
    "        for customer in customer_idx:\n",
    "            try: # the PB was offered to the customer\n",
    "                lst_score.append(df_score.loc[customer, offer]['PB'])\n",
    "            except: # PB was not offered to the customer\n",
    "                lst_score.append(np.nan)\n",
    "                continue\n",
    "        \n",
    "        dct_score.update({offer: lst_score})\n",
    "    return dct_score"
   ]
  },
  {
   "cell_type": "code",
   "execution_count": 37,
   "metadata": {},
   "outputs": [
    {
     "data": {
      "text/html": [
       "<div>\n",
       "<style scoped>\n",
       "    .dataframe tbody tr th:only-of-type {\n",
       "        vertical-align: middle;\n",
       "    }\n",
       "\n",
       "    .dataframe tbody tr th {\n",
       "        vertical-align: top;\n",
       "    }\n",
       "\n",
       "    .dataframe thead th {\n",
       "        text-align: right;\n",
       "    }\n",
       "</style>\n",
       "<table border=\"1\" class=\"dataframe\">\n",
       "  <thead>\n",
       "    <tr style=\"text-align: right;\">\n",
       "      <th></th>\n",
       "      <th>offer_0</th>\n",
       "      <th>offer_1</th>\n",
       "      <th>offer_2</th>\n",
       "      <th>offer_3</th>\n",
       "      <th>offer_4</th>\n",
       "      <th>offer_5</th>\n",
       "      <th>offer_6</th>\n",
       "      <th>offer_7</th>\n",
       "      <th>offer_8</th>\n",
       "      <th>offer_9</th>\n",
       "    </tr>\n",
       "  </thead>\n",
       "  <tbody>\n",
       "    <tr>\n",
       "      <th>0</th>\n",
       "      <td>NaN</td>\n",
       "      <td>NaN</td>\n",
       "      <td>4.44</td>\n",
       "      <td>NaN</td>\n",
       "      <td>NaN</td>\n",
       "      <td>NaN</td>\n",
       "      <td>10.00</td>\n",
       "      <td>4.44</td>\n",
       "      <td>10.00</td>\n",
       "      <td>1.11</td>\n",
       "    </tr>\n",
       "    <tr>\n",
       "      <th>1</th>\n",
       "      <td>NaN</td>\n",
       "      <td>NaN</td>\n",
       "      <td>NaN</td>\n",
       "      <td>NaN</td>\n",
       "      <td>NaN</td>\n",
       "      <td>NaN</td>\n",
       "      <td>NaN</td>\n",
       "      <td>NaN</td>\n",
       "      <td>4.44</td>\n",
       "      <td>NaN</td>\n",
       "    </tr>\n",
       "    <tr>\n",
       "      <th>2</th>\n",
       "      <td>NaN</td>\n",
       "      <td>NaN</td>\n",
       "      <td>4.44</td>\n",
       "      <td>10.0</td>\n",
       "      <td>10.0</td>\n",
       "      <td>10.0</td>\n",
       "      <td>NaN</td>\n",
       "      <td>4.44</td>\n",
       "      <td>NaN</td>\n",
       "      <td>NaN</td>\n",
       "    </tr>\n",
       "    <tr>\n",
       "      <th>3</th>\n",
       "      <td>1.11</td>\n",
       "      <td>10.0</td>\n",
       "      <td>NaN</td>\n",
       "      <td>NaN</td>\n",
       "      <td>NaN</td>\n",
       "      <td>NaN</td>\n",
       "      <td>5.56</td>\n",
       "      <td>4.44</td>\n",
       "      <td>NaN</td>\n",
       "      <td>NaN</td>\n",
       "    </tr>\n",
       "    <tr>\n",
       "      <th>4</th>\n",
       "      <td>NaN</td>\n",
       "      <td>NaN</td>\n",
       "      <td>NaN</td>\n",
       "      <td>10.0</td>\n",
       "      <td>NaN</td>\n",
       "      <td>10.0</td>\n",
       "      <td>NaN</td>\n",
       "      <td>4.44</td>\n",
       "      <td>10.00</td>\n",
       "      <td>NaN</td>\n",
       "    </tr>\n",
       "  </tbody>\n",
       "</table>\n",
       "</div>"
      ],
      "text/plain": [
       "   offer_0  offer_1  offer_2  offer_3  offer_4  offer_5  offer_6  offer_7  \\\n",
       "0      NaN      NaN     4.44      NaN      NaN      NaN    10.00     4.44   \n",
       "1      NaN      NaN      NaN      NaN      NaN      NaN      NaN      NaN   \n",
       "2      NaN      NaN     4.44     10.0     10.0     10.0      NaN     4.44   \n",
       "3     1.11     10.0      NaN      NaN      NaN      NaN     5.56     4.44   \n",
       "4      NaN      NaN      NaN     10.0      NaN     10.0      NaN     4.44   \n",
       "\n",
       "   offer_8  offer_9  \n",
       "0    10.00     1.11  \n",
       "1     4.44      NaN  \n",
       "2      NaN      NaN  \n",
       "3      NaN      NaN  \n",
       "4    10.00      NaN  "
      ]
     },
     "execution_count": 37,
     "metadata": {},
     "output_type": "execute_result"
    }
   ],
   "source": [
    "df_recs = pd.DataFrame.from_dict(create_matrix(df_score_train))\n",
    "df_recs.head()"
   ]
  },
  {
   "cell_type": "code",
   "execution_count": 38,
   "metadata": {},
   "outputs": [
    {
     "data": {
      "text/plain": [
       "offer_0    0.62\n",
       "offer_1    0.63\n",
       "offer_2    0.63\n",
       "offer_3    0.63\n",
       "offer_4    0.62\n",
       "offer_5    0.63\n",
       "offer_6    0.63\n",
       "offer_7    0.63\n",
       "offer_8    0.63\n",
       "offer_9    0.63\n",
       "dtype: float64"
      ]
     },
     "execution_count": 38,
     "metadata": {},
     "output_type": "execute_result"
    }
   ],
   "source": [
    "np.round(df_recs.isnull().sum()/len(df_recs), 2)"
   ]
  },
  {
   "cell_type": "markdown",
   "metadata": {},
   "source": [
    "### FunkSVD"
   ]
  },
  {
   "cell_type": "markdown",
   "metadata": {},
   "source": [
    "We created the sparse `df_recs` matrix which has a lot of NaN values. Because of having NaN values, we need to use __FunkSVD__ algorithm to build a recommendation model. "
   ]
  },
  {
   "cell_type": "code",
   "execution_count": 48,
   "metadata": {},
   "outputs": [],
   "source": [
    "def FunkSVD(matrix, latent_features=10, learning_rate=0.0001, iters=500):\n",
    "    \"\"\"\n",
    "    This function performs matrix factorization using a basic form of FunkSVD with no regularization\n",
    "    \n",
    "    INPUT\n",
    "        matrix: (numpy array) a matrix with customer_ids as rows, offer_numbers as columns, and PB as values\n",
    "        lagent_features: (int) the number of latent features used\n",
    "        learning_rate: (float) the learning rate\n",
    "        iters: (int) the number of iterations\n",
    "    OUTPUT\n",
    "        customer_mat: (numpy array) a customer by latent feature matrix\n",
    "        offer_mat: (numpy array) a latent featur by offer matrix\n",
    "        MSE: average of mean squared error\n",
    "    \"\"\"\n",
    "    \n",
    "    # set up useful values\n",
    "    n_customers = matrix.shape[0]\n",
    "    n_offers = matrix.shape[1]\n",
    "    \n",
    "    # if we have missing values, n_PB = n_customers * n_offers won't work\n",
    "    n_PB = np.count_nonzero(~np.isnan(matrix))\n",
    "    \n",
    "    # initialize the customers and offer matriecs with random vales\n",
    "    customers_mat = np.random.rand(n_customers, latent_features)\n",
    "    offer_mat = np.random.rand(latent_features, n_offers)\n",
    "    \n",
    "    plt_iteration = []\n",
    "    plt_sse = []\n",
    "    \n",
    "    # initialize sse at 0 for first iteration\n",
    "    sse_accum = 0\n",
    "    \n",
    "    # header for running results (opt out and put a plot instead)\n",
    "    #print(\"Optimization Statistics\")\n",
    "    #print(\"Iterations | Mean Squared Error\")\n",
    "\n",
    "    \n",
    "    for iteration in range(iters):\n",
    "        # update the progress bar\n",
    "        \n",
    "        \n",
    "        # update our sse\n",
    "        old_sse = sse_accum\n",
    "        sse_accum = 0\n",
    "        \n",
    "        # for each customers-offer pair\n",
    "        for customer in range(n_customers):\n",
    "            for offer in range(n_offers):\n",
    "                \n",
    "                # if the PB score exists (not None)\n",
    "                if not np.isnan(matrix[customer, offer]):\n",
    "                    \n",
    "                    # compute the error as the actual minus the dot product of \n",
    "                    # the customers and offer latent features\n",
    "                    diff = matrix[customer, offer] - np.dot(customers_mat[customer, :], offer_mat[:, offer])\n",
    "                    \n",
    "                    # keep track of the sum of squared errors for the matrix\n",
    "                    sse_accum += diff**2\n",
    "                    \n",
    "                    # update the values in each matrix in the direction of the gradient\n",
    "                    for k in range(latent_features):\n",
    "                        customers_mat[customer, k] += learning_rate * (2 * diff * offer_mat[k, offer])\n",
    "                        offer_mat[k, offer] += learning_rate * (2 * diff * customers_mat[customer, k])\n",
    "\n",
    "        #print(\"%d \\t\\t %f\" % (iteration+1, sse_accum / n_PB))\n",
    "            \n",
    "            \n",
    "        # if iteration % 10 == 0:\n",
    "        plt_iteration.append(iteration)\n",
    "        plt_sse.append(np.round(sse_accum / n_PB, 2))\n",
    "        \n",
    "    plt.plot(plt_iteration, plt_sse);\n",
    "    plt.grid(linestyle='--');\n",
    "    plt.xlabel('Interaction');\n",
    "    plt.ylabel('Mean Squared Error');\n",
    "    plt.title('Mean Squared Error vs. Interaction');\n",
    "        \n",
    "    # print results for iteration\n",
    "        \n",
    "       \n",
    "    return customers_mat, offer_mat, np.round(sse_accum / n_PB, 2)\n",
    "                                  "
   ]
  },
  {
   "cell_type": "markdown",
   "metadata": {},
   "source": [
    "### Model Evaludation"
   ]
  },
  {
   "cell_type": "markdown",
   "metadata": {},
   "source": [
    "Try to find good parameters for the recommendation model."
   ]
  },
  {
   "cell_type": "markdown",
   "metadata": {},
   "source": [
    "#### __Change iter=N, and keep Latent features = 10, learning_rate = 0.0001__\n",
    "\n",
    "__1) iter = 250__\n",
    "- MSE kept smaller when it hit 250 iterations, and about 1.85 MSE is still not good. "
   ]
  },
  {
   "cell_type": "code",
   "execution_count": 49,
   "metadata": {
    "scrolled": true
   },
   "outputs": [
    {
     "data": {
      "image/png": "[encoded data removed]",
      "text/plain": [
       "<Figure size 432x288 with 1 Axes>"
      ]
     },
     "metadata": {
      "needs_background": "light"
     },
     "output_type": "display_data"
    }
   ],
   "source": [
    "customers_mat, offer_mat, mse_errors = FunkSVD(df_recs.values, learning_rate = 0.0001, latent_features=10, iters=250)"
   ]
  },
  {
   "cell_type": "code",
   "execution_count": 50,
   "metadata": {},
   "outputs": [],
   "source": [
    "preds_mat = np.dot(customers_mat, offer_mat)"
   ]
  },
  {
   "cell_type": "markdown",
   "metadata": {},
   "source": [
    "__2) iter=500__\n",
    "- Increased iteration to 500, and we got MSE which is close to 0 (0.2..). "
   ]
  },
  {
   "cell_type": "code",
   "execution_count": 169,
   "metadata": {},
   "outputs": [
    {
     "data": {
      "image/png": "[encoded data removed]",
      "text/plain": [
       "<Figure size 432x288 with 1 Axes>"
      ]
     },
     "metadata": {
      "needs_background": "light"
     },
     "output_type": "display_data"
    }
   ],
   "source": [
    "customers_mat, offer_mat, mse_errors = FunkSVD(df_recs.values, learning_rate = 0.0001, latent_features=10, iters=500)"
   ]
  },
  {
   "cell_type": "code",
   "execution_count": 170,
   "metadata": {},
   "outputs": [
    {
     "name": "stdout",
     "output_type": "stream",
     "text": [
      "[  nan 10.     nan   nan  5.56   nan   nan  4.44   nan 10.  ]\n",
      "[6.19 6.14 3.1  5.   3.49 7.85 7.83 3.8  6.9  5.02]\n"
     ]
    }
   ],
   "source": [
    "# let's see the model's performance for customer_id = 945\n",
    "cust = 945\n",
    "print(df_recs.loc[cust].values)\n",
    "print(np.round(preds_mat[cust], 2))"
   ]
  },
  {
   "cell_type": "code",
   "execution_count": 171,
   "metadata": {},
   "outputs": [
    {
     "name": "stdout",
     "output_type": "stream",
     "text": [
      "recommend the following offers for 945 customer_id: ['offer_0', 'offer_1', 'offer_5', 'offer_6', 'offer_8']\n"
     ]
    }
   ],
   "source": [
    "def recommend(customer_id, average_score, preds_mat=preds_mat):\n",
    "    lst_to_recommend=[]\n",
    "    for i, score in enumerate(preds_mat[customer_id]):\n",
    "        if score > average_score:\n",
    "            lst_to_recommend.append(\"offer_\" + str(i))\n",
    "\n",
    "    return lst_to_recommend\n",
    "\n",
    "# avg score = 5.67\n",
    "print(\"recommend the following offers for 945 customer_id:\", recommend(945, 5.67))"
   ]
  },
  {
   "cell_type": "markdown",
   "metadata": {},
   "source": [
    "__3) iter = 700__\n",
    "- Compared to iter=500, the model with iter=700 wouldn't improve that much. "
   ]
  },
  {
   "cell_type": "code",
   "execution_count": 172,
   "metadata": {},
   "outputs": [
    {
     "data": {
      "image/png": "[encoded data removed]",
      "text/plain": [
       "<Figure size 432x288 with 1 Axes>"
      ]
     },
     "metadata": {
      "needs_background": "light"
     },
     "output_type": "display_data"
    }
   ],
   "source": [
    "customers_mat, offer_mat, mse_errors = FunkSVD(df_recs.values, learning_rate = 0.0001, latent_features=10, iters=700)"
   ]
  },
  {
   "cell_type": "code",
   "execution_count": 173,
   "metadata": {},
   "outputs": [
    {
     "name": "stdout",
     "output_type": "stream",
     "text": [
      "[  nan 10.     nan   nan  5.56   nan   nan  4.44   nan 10.  ]\n",
      "[6.19 6.14 3.1  5.   3.49 7.85 7.83 3.8  6.9  5.02]\n"
     ]
    }
   ],
   "source": [
    "# let's see the model's performance for customer_id = 945\n",
    "cust = 945\n",
    "print(df_recs.loc[cust].values)\n",
    "print(np.round(preds_mat[cust], 2))"
   ]
  },
  {
   "cell_type": "code",
   "execution_count": 174,
   "metadata": {},
   "outputs": [
    {
     "name": "stdout",
     "output_type": "stream",
     "text": [
      "recommend the following offers for 945 customer_id: ['offer_0', 'offer_1', 'offer_5', 'offer_6', 'offer_8']\n"
     ]
    }
   ],
   "source": [
    "def recommend(customer_id, average_score, preds_mat=preds_mat):\n",
    "    lst_to_recommend=[]\n",
    "    for i, score in enumerate(preds_mat[customer_id]):\n",
    "        if score > average_score:\n",
    "            lst_to_recommend.append(\"offer_\" + str(i))\n",
    "\n",
    "    return lst_to_recommend\n",
    "\n",
    "# avg score = 5.67\n",
    "print(\"recommend the following offers for 945 customer_id:\", recommend(945, 5.67))"
   ]
  },
  {
   "cell_type": "markdown",
   "metadata": {},
   "source": [
    "#### __Change learning_rate = N, keep Latent features = 10, iter = 500__\n",
    "\n",
    "__1) learning_rate = 0.0003__"
   ]
  },
  {
   "cell_type": "code",
   "execution_count": 175,
   "metadata": {},
   "outputs": [
    {
     "data": {
      "image/png": "[encoded data removed]",
      "text/plain": [
       "<Figure size 432x288 with 1 Axes>"
      ]
     },
     "metadata": {
      "needs_background": "light"
     },
     "output_type": "display_data"
    }
   ],
   "source": [
    "mse_errors = FunkSVD(df_recs.values, learning_rate = 0.0003, latent_features=10, iters=500)"
   ]
  },
  {
   "cell_type": "code",
   "execution_count": 176,
   "metadata": {},
   "outputs": [
    {
     "name": "stdout",
     "output_type": "stream",
     "text": [
      "[  nan 10.     nan   nan  5.56   nan   nan  4.44   nan 10.  ]\n",
      "[6.19 6.14 3.1  5.   3.49 7.85 7.83 3.8  6.9  5.02]\n"
     ]
    }
   ],
   "source": [
    "# let's see the model's performance for customer_id = 945\n",
    "cust = 945\n",
    "print(df_recs.loc[cust].values)\n",
    "print(np.round(preds_mat[cust], 2))"
   ]
  },
  {
   "cell_type": "code",
   "execution_count": 177,
   "metadata": {},
   "outputs": [
    {
     "name": "stdout",
     "output_type": "stream",
     "text": [
      "recommend the following offers for 945 customer_id: ['offer_0', 'offer_1', 'offer_5', 'offer_6', 'offer_8']\n"
     ]
    }
   ],
   "source": [
    "print(\"recommend the following offers for 945 customer_id:\", recommend(945, 5.67))"
   ]
  },
  {
   "cell_type": "markdown",
   "metadata": {},
   "source": [
    "__2) learning_rate = 0.0005__"
   ]
  },
  {
   "cell_type": "code",
   "execution_count": 178,
   "metadata": {},
   "outputs": [
    {
     "data": {
      "image/png": "[encoded data removed]",
      "text/plain": [
       "<Figure size 432x288 with 1 Axes>"
      ]
     },
     "metadata": {
      "needs_background": "light"
     },
     "output_type": "display_data"
    }
   ],
   "source": [
    "customers_mat, offer_mat, mse_errors = FunkSVD(df_recs.values, learning_rate = 0.0005, latent_features=10, iters=500)"
   ]
  },
  {
   "cell_type": "code",
   "execution_count": 179,
   "metadata": {},
   "outputs": [
    {
     "name": "stdout",
     "output_type": "stream",
     "text": [
      "[  nan 10.     nan   nan  5.56   nan   nan  4.44   nan 10.  ]\n",
      "[6.19 6.14 3.1  5.   3.49 7.85 7.83 3.8  6.9  5.02]\n"
     ]
    }
   ],
   "source": [
    "# let's see the model's performance for customer_id = 945\n",
    "cust = 945\n",
    "print(df_recs.loc[cust].values)\n",
    "print(np.round(preds_mat[cust], 2))"
   ]
  },
  {
   "cell_type": "code",
   "execution_count": 180,
   "metadata": {},
   "outputs": [
    {
     "name": "stdout",
     "output_type": "stream",
     "text": [
      "recommend the following offers for 945 customer_id: ['offer_0', 'offer_1', 'offer_5', 'offer_6', 'offer_8']\n"
     ]
    }
   ],
   "source": [
    "print(\"recommend the following offers for 945 customer_id:\", recommend(945, 5.67))"
   ]
  },
  {
   "cell_type": "markdown",
   "metadata": {},
   "source": [
    "__3) learning_rate = 0.0008__"
   ]
  },
  {
   "cell_type": "code",
   "execution_count": 181,
   "metadata": {},
   "outputs": [
    {
     "data": {
      "image/png": "[encoded data removed]",
      "text/plain": [
       "<Figure size 432x288 with 1 Axes>"
      ]
     },
     "metadata": {
      "needs_background": "light"
     },
     "output_type": "display_data"
    }
   ],
   "source": [
    "customers_mat, offer_mat, mse_errors = FunkSVD(df_recs.values, learning_rate = 0.0008, latent_features=10, iters=500)"
   ]
  },
  {
   "cell_type": "code",
   "execution_count": 182,
   "metadata": {},
   "outputs": [
    {
     "name": "stdout",
     "output_type": "stream",
     "text": [
      "[  nan 10.     nan   nan  5.56   nan   nan  4.44   nan 10.  ]\n",
      "[6.19 6.14 3.1  5.   3.49 7.85 7.83 3.8  6.9  5.02]\n"
     ]
    }
   ],
   "source": [
    "# let's see the model's performance for customer_id = 945\n",
    "cust = 945\n",
    "print(df_recs.loc[cust].values)\n",
    "print(np.round(preds_mat[cust], 2))"
   ]
  },
  {
   "cell_type": "code",
   "execution_count": 183,
   "metadata": {},
   "outputs": [
    {
     "name": "stdout",
     "output_type": "stream",
     "text": [
      "recommend the following offers for 945 customer_id: ['offer_0', 'offer_1', 'offer_5', 'offer_6', 'offer_8']\n"
     ]
    }
   ],
   "source": [
    "print(\"recommend the following offers for 945 customer_id:\", recommend(945, 5.67))"
   ]
  },
  {
   "cell_type": "markdown",
   "metadata": {},
   "source": [
    "## Conclusion"
   ]
  },
  {
   "cell_type": "markdown",
   "metadata": {},
   "source": [
    "Compared the models that I built above, the final model's parameters are learning_rate = 0.0008, iter=100, latent_features=10."
   ]
  },
  {
   "cell_type": "code",
   "execution_count": 51,
   "metadata": {},
   "outputs": [
    {
     "data": {
      "image/png": "[encoded data removed]",
      "text/plain": [
       "<Figure size 432x288 with 1 Axes>"
      ]
     },
     "metadata": {
      "needs_background": "light"
     },
     "output_type": "display_data"
    }
   ],
   "source": [
    "customers_mat, offer_mat, mse_errors = FunkSVD(df_recs.values, learning_rate = 0.0008, latent_features=10, iters=100)"
   ]
  },
  {
   "cell_type": "code",
   "execution_count": 52,
   "metadata": {},
   "outputs": [
    {
     "name": "stdout",
     "output_type": "stream",
     "text": [
      "[10.    1.11   nan   nan   nan   nan   nan  4.44 10.     nan]\n",
      "[ 9.65  4.39  2.2   2.11 -0.99  9.82 10.42  4.55  7.71  3.27]\n"
     ]
    }
   ],
   "source": [
    "# let's see the model's performance for customer_id = 945\n",
    "cust = 945\n",
    "# actual value\n",
    "print(df_recs.loc[cust].values)\n",
    "# predicted value\n",
    "print(np.round(preds_mat[cust], 2))"
   ]
  },
  {
   "cell_type": "code",
   "execution_count": 53,
   "metadata": {},
   "outputs": [
    {
     "name": "stdout",
     "output_type": "stream",
     "text": [
      "recommend the following offers for 945 customer_id: ['offer_0', 'offer_5', 'offer_6', 'offer_8']\n"
     ]
    }
   ],
   "source": [
    "def recommend(customer_id, average_score, preds_mat=preds_mat):\n",
    "    lst_to_recommend=[]\n",
    "    for i, score in enumerate(preds_mat[customer_id]):\n",
    "        if score > average_score:\n",
    "            lst_to_recommend.append(\"offer_\" + str(i))\n",
    "\n",
    "    return lst_to_recommend\n",
    "\n",
    "# avg score = 5.67\n",
    "print(\"recommend the following offers for 945 customer_id:\", recommend(945, 5.67))"
   ]
  },
  {
   "cell_type": "markdown",
   "metadata": {},
   "source": [
    "As can see the results for customer_id 945 above, the recommendation model performed close to the actual values. "
   ]
  },
  {
   "cell_type": "markdown",
   "metadata": {},
   "source": [
    "## Conclusion"
   ]
  },
  {
   "cell_type": "markdown",
   "metadata": {},
   "source": [
    "In this project, we built the recommendation model (with FunkSVD). With the model, we can provide appropriate offers to customers. "
   ]
  }
 ],
 "metadata": {
  "kernelspec": {
   "display_name": "Python 3",
   "language": "python",
   "name": "python3"
  },
  "language_info": {
   "codemirror_mode": {
    "name": "ipython",
    "version": 3
   },
   "file_extension": ".py",
   "mimetype": "text/x-python",
   "name": "python",
   "nbconvert_exporter": "python",
   "pygments_lexer": "ipython3",
   "version": "3.8.8"
  },
  "toc": {
   "base_numbering": 1,
   "nav_menu": {},
   "number_sections": true,
   "sideBar": true,
   "skip_h1_title": true,
   "title_cell": "Table of Contents",
   "title_sidebar": "Contents",
   "toc_cell": true,
   "toc_position": {},
   "toc_section_display": true,
   "toc_window_display": false
  },
  "varInspector": {
   "cols": {
    "lenName": 16,
    "lenType": 16,
    "lenVar": 40
   },
   "kernels_config": {
    "python": {
     "delete_cmd_postfix": "",
     "delete_cmd_prefix": "del ",
     "library": "var_list.py",
     "varRefreshCmd": "print(var_dic_list())"
    },
    "r": {
     "delete_cmd_postfix": ") ",
     "delete_cmd_prefix": "rm(",
     "library": "var_list.r",
     "varRefreshCmd": "cat(var_dic_list()) "
    }
   },
   "types_to_exclude": [
    "module",
    "function",
    "builtin_function_or_method",
    "instance",
    "_Feature"
   ],
   "window_display": false
  }
 },
 "nbformat": 4,
 "nbformat_minor": 2
}
